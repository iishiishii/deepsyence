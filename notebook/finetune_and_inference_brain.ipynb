{
 "cells": [
  {
   "attachments": {},
   "cell_type": "markdown",
   "metadata": {},
   "source": [
    "# Fine-tune SAM on customized datasets (3D example)\n",
    "1. Prepare original 3D images `data/FLARE22Train/` (Download link:https://zenodo.org/record/7860267) \n",
    "2. Run `pre_CT.py` for pre-processing. Expected output: `./data/Npz_files/CT_Abd-Gallbladder_`\n",
    "3. Start this fine-tuning tutorial"
   ]
  },
  {
   "cell_type": "code",
   "execution_count": 1,
   "metadata": {},
   "outputs": [],
   "source": [
    "# %% set up environment\n",
    "import numpy as np\n",
    "import matplotlib.pyplot as plt\n",
    "import os\n",
    "join = os.path.join\n",
    "from tqdm import tqdm\n",
    "import torch\n",
    "from torch.utils.data import Dataset, DataLoader\n",
    "import monai\n",
    "from segment_anything import SamPredictor, sam_model_registry\n",
    "from segment_anything.utils.transforms import ResizeLongestSide\n",
    "from utils.SurfaceDice import compute_dice_coefficient\n",
    "# set seeds\n",
    "torch.manual_seed(2023)\n",
    "np.random.seed(2023)\n",
    "import nibabel as nib"
   ]
  },
  {
   "cell_type": "code",
   "execution_count": 2,
   "metadata": {},
   "outputs": [],
   "source": [
    "#%% create a dataset class to load npz data and return back image embeddings and ground truth\n",
    "class NpzDataset(Dataset): \n",
    "    def __init__(self, data_root):\n",
    "        self.data_root = data_root\n",
    "        self.npz_files = sorted(os.listdir(self.data_root)) \n",
    "        self.npz_data = [np.load(join(data_root, f)) for f in self.npz_files]\n",
    "        # this implementation is ugly but it works (and is also fast for feeding data to GPU) if your server has enough RAM\n",
    "        # as an alternative, you can also use a list of npy files and load them one by one\n",
    "        self.ori_gts = np.vstack([d['gts'] for d in self.npz_data])\n",
    "        self.img_embeddings = np.vstack([d['img_embeddings'] for d in self.npz_data])\n",
    "        print(f\"{self.img_embeddings.shape=}, {self.ori_gts.shape=}\")\n",
    "    \n",
    "    def __len__(self):\n",
    "        return self.ori_gts.shape[0]\n",
    "\n",
    "    def __getitem__(self, index):\n",
    "        img_embed = self.img_embeddings[index]\n",
    "        gt2D = self.ori_gts[index]\n",
    "        y_indices, x_indices = np.where(gt2D > 0)\n",
    "        x_min, x_max = np.min(x_indices), np.max(x_indices)\n",
    "        y_min, y_max = np.min(y_indices), np.max(y_indices)\n",
    "        # add perturbation to bounding box coordinates\n",
    "        # H, W = gt2D.shape\n",
    "        # x_min = max(0, x_min - np.random.randint(0, 20))\n",
    "        # x_max = min(W, x_max + np.random.randint(0, 20))\n",
    "        # y_min = max(0, y_min - np.random.randint(0, 20))\n",
    "        # y_max = min(H, y_max + np.random.randint(0, 20))\n",
    "        # bboxes = np.array([x_min, y_min, x_max, y_max])\n",
    "        # whole image as bbox\n",
    "        bboxes = np.array([0, 0, gt2D.shape[1], gt2D.shape[0]])\n",
    "        # convert img embedding, mask, bounding box to torch tensor\n",
    "        return torch.tensor(img_embed).float(), torch.tensor(gt2D[None, :,:]).long(), torch.tensor(bboxes).float()\n"
   ]
  },
  {
   "cell_type": "code",
   "execution_count": 3,
   "metadata": {},
   "outputs": [],
   "source": [
    "class NpyDataset(Dataset): \n",
    "    def __init__(self, data_root):\n",
    "        self.data_root = data_root\n",
    "        self.gt_path = join(data_root, 'npy_gts')\n",
    "        self.embed_path = join(data_root, 'npy_embs')\n",
    "        self.npy_files = sorted(os.listdir(self.gt_path))\n",
    "    \n",
    "    def __len__(self):\n",
    "        return len(self.npy_files)\n",
    "\n",
    "    def __getitem__(self, index):\n",
    "        gt2D = np.load(join(self.gt_path, self.npy_files[index]))\n",
    "        img_embed = np.load(join(self.embed_path, self.npy_files[index]))\n",
    "        y_indices, x_indices = np.where(gt2D > 0)\n",
    "        x_min, x_max = np.min(x_indices), np.max(x_indices)\n",
    "        y_min, y_max = np.min(y_indices), np.max(y_indices)\n",
    "        # add perturbation to bounding box coordinates\n",
    "        H, W = gt2D.shape\n",
    "        x_min = max(0, x_min - np.random.randint(0, 20))\n",
    "        x_max = min(W, x_max + np.random.randint(0, 20))\n",
    "        y_min = max(0, y_min - np.random.randint(0, 20))\n",
    "        y_max = min(H, y_max + np.random.randint(0, 20))\n",
    "        bboxes = np.array([x_min, y_min, x_max, y_max])\n",
    "        # convert img embedding, mask, bounding box to torch tensor\n",
    "        return torch.tensor(img_embed).float(), torch.tensor(gt2D[None, :,:]).long(), torch.tensor(bboxes).float()\n"
   ]
  },
  {
   "cell_type": "code",
   "execution_count": 4,
   "metadata": {},
   "outputs": [
    {
     "name": "stdout",
     "output_type": "stream",
     "text": [
      "self.img_embeddings.shape=(1701, 256, 64, 64), self.ori_gts.shape=(1701, 256, 256)\n",
      "img_embed.shape=torch.Size([8, 256, 64, 64]), gt2D.shape=torch.Size([8, 1, 256, 256]), bboxes.shape=torch.Size([8, 4])\n"
     ]
    },
    {
     "data": {
      "image/png": "[encoded data removed]",
      "text/plain": [
       "<Figure size 640x480 with 1 Axes>"
      ]
     },
     "metadata": {},
     "output_type": "display_data"
    }
   ],
   "source": [
    "# %% test dataset class and dataloader\n",
    "npz_tr_path = '../npz_wholebbox_pad/MRI_lesion/train'\n",
    "demo_dataset = NpzDataset(npz_tr_path)\n",
    "demo_dataloader = DataLoader(demo_dataset, batch_size=8, shuffle=True)\n",
    "for img_embed, gt2D, bboxes in demo_dataloader:\n",
    "    # img_embed: (B, 256, 64, 64), gt2D: (B, 1, 256, 256), bboxes: (B, 4)\n",
    "    print(f\"{img_embed.shape=}, {gt2D.shape=}, {bboxes.shape=}\")\n",
    "    plt.imshow(gt2D[0,0,:,:])\n",
    "    plt.show()\n",
    "    break"
   ]
  },
  {
   "cell_type": "code",
   "execution_count": 4,
   "metadata": {},
   "outputs": [],
   "source": [
    "# %% set up model for fine-tuning \n",
    "# train data path\n",
    "npz_tr_path = '../npz_wholebbox_pad/MRI_lesion/train'\n",
    "work_dir = './work_dir'\n",
    "task_name = 'lesion_finetune_bgpoint'\n",
    "# prepare SAM model\n",
    "model_type = 'vit_b'\n",
    "checkpoint = 'work_dir/SAM/sam_vit_b_01ec64.pth'\n",
    "device = 'cuda:0'\n",
    "model_save_path = join(work_dir, task_name)\n",
    "os.makedirs(model_save_path, exist_ok=True)\n",
    "sam_model = sam_model_registry[model_type](checkpoint=checkpoint).to(device)\n",
    "sam_model.train()\n",
    "\n",
    "# Set up the optimizer, hyperparameter tuning will improve performance here\n",
    "optimizer = torch.optim.Adam(sam_model.mask_decoder.parameters(), lr=1e-5, weight_decay=0)\n",
    "seg_loss = monai.losses.DiceCELoss(sigmoid=True, squared_pred=True, reduction='mean')\n"
   ]
  },
  {
   "cell_type": "code",
   "execution_count": 11,
   "metadata": {},
   "outputs": [
    {
     "ename": "SyntaxError",
     "evalue": "invalid syntax (3140550130.py, line 7)",
     "output_type": "error",
     "traceback": [
      "\u001b[0;36m  Cell \u001b[0;32mIn[11], line 7\u001b[0;36m\u001b[0m\n\u001b[0;31m    point_torc = point_torc.repeat((:,1,1))\u001b[0m\n\u001b[0m                                    ^\u001b[0m\n\u001b[0;31mSyntaxError\u001b[0m\u001b[0;31m:\u001b[0m invalid syntax\n"
     ]
    }
   ],
   "source": [
    "input_poin = np.array([[1,2]])\n",
    "print(input_poin.shape)\n",
    "\n",
    "print(input_poin[0])\n",
    "onnx_coor = np.concatenate([input_poin], axis=0)[None, :, :]\n",
    "point_torc = torch.as_tensor(onnx_coor, dtype=torch.float, device=device)\n",
    "point_torc = point_torc.repeat((:,1,1))\n",
    "\n",
    "print( point_torc.shape)\n",
    "if len(point_torc.shape) == 3:\n",
    "    point_torc = point_torc.expand(-1, -1, -1) # (B, 1, 4)\n",
    "print( point_torc[0], point_torc.shape)\n"
   ]
  },
  {
   "cell_type": "code",
   "execution_count": 55,
   "metadata": {},
   "outputs": [
    {
     "name": "stdout",
     "output_type": "stream",
     "text": [
      "self.img_embeddings.shape=(1701, 256, 64, 64), self.ori_gts.shape=(1701, 256, 256)\n"
     ]
    },
    {
     "name": "stderr",
     "output_type": "stream",
     "text": [
      "  0%|          | 0/26 [00:13<?, ?it/s]"
     ]
    },
    {
     "name": "stdout",
     "output_type": "stream",
     "text": [
      "tensor([[[[-4.8609e-02, -4.4043e-02, -4.9777e-02,  ..., -4.5911e-02,\n",
      "           -4.2718e-02, -4.0678e-02],\n",
      "          [-2.8842e-02, -2.2683e-02, -3.1983e-02,  ..., -2.1445e-02,\n",
      "           -2.0765e-02, -2.8411e-02],\n",
      "          [-3.5600e-02, -2.5596e-02, -3.5161e-02,  ..., -2.6256e-02,\n",
      "           -2.5598e-02, -3.4048e-02],\n",
      "          ...,\n",
      "          [-1.9813e-02, -8.3534e-03, -1.8721e-02,  ...,  2.2664e-02,\n",
      "            2.2381e-02,  3.6693e-03],\n",
      "          [-1.3141e-02, -3.8614e-03, -1.4761e-02,  ...,  2.4325e-02,\n",
      "            2.3892e-02,  5.2566e-03],\n",
      "          [-2.8037e-02, -2.6059e-02, -3.5292e-02,  ..., -1.6640e-03,\n",
      "           -2.1241e-03, -1.7719e-02]],\n",
      "\n",
      "         [[ 2.9651e-02, -6.7351e-02, -6.6631e-02,  ..., -1.1304e-01,\n",
      "           -1.2068e-01, -7.2586e-02],\n",
      "          [-1.1960e-01, -1.6579e-01, -1.5928e-01,  ..., -1.8984e-01,\n",
      "           -1.9534e-01, -1.7394e-01],\n",
      "          [-8.2696e-02, -1.4772e-01, -1.2567e-01,  ..., -1.8223e-01,\n",
      "           -1.8622e-01, -1.5142e-01],\n",
      "          ...,\n",
      "          [-1.2015e-01, -2.0822e-01, -1.7666e-01,  ..., -1.3169e-01,\n",
      "           -1.2976e-01, -1.1480e-01],\n",
      "          [-1.2729e-01, -2.1844e-01, -1.9292e-01,  ..., -1.3576e-01,\n",
      "           -1.3461e-01, -1.2042e-01],\n",
      "          [-6.8613e-02, -1.7831e-01, -1.6442e-01,  ..., -7.8051e-02,\n",
      "           -7.4802e-02, -4.7974e-02]],\n",
      "\n",
      "         [[ 1.8125e-02,  3.6097e-02,  4.5024e-02,  ...,  6.0043e-02,\n",
      "            6.5781e-02,  5.8591e-02],\n",
      "          [ 2.0041e-02,  3.7750e-02,  4.0984e-02,  ...,  5.4565e-02,\n",
      "            5.8592e-02,  5.6286e-02],\n",
      "          [ 2.4650e-02,  3.2332e-02,  4.1546e-02,  ...,  5.7325e-02,\n",
      "            6.1522e-02,  5.6403e-02],\n",
      "          ...,\n",
      "          [ 4.1822e-02,  4.8668e-02,  5.1578e-02,  ...,  8.4739e-02,\n",
      "            8.6522e-02,  6.5062e-02],\n",
      "          [ 4.6971e-02,  5.3139e-02,  5.5776e-02,  ...,  8.4608e-02,\n",
      "            8.6048e-02,  6.3175e-02],\n",
      "          [ 3.3004e-02,  3.2475e-02,  3.9360e-02,  ...,  5.9374e-02,\n",
      "            6.0112e-02,  4.3931e-02]],\n",
      "\n",
      "         ...,\n",
      "\n",
      "         [[-2.3368e-01, -2.3564e-01, -2.0777e-01,  ..., -2.0024e-01,\n",
      "           -2.0622e-01, -1.9327e-01],\n",
      "          [-1.5794e-01, -1.9665e-01, -1.8249e-01,  ..., -2.3112e-01,\n",
      "           -2.3391e-01, -2.0590e-01],\n",
      "          [-1.4634e-01, -1.4847e-01, -1.7215e-01,  ..., -2.1287e-01,\n",
      "           -2.2152e-01, -1.9490e-01],\n",
      "          ...,\n",
      "          [ 9.2367e-03, -4.0188e-02, -4.2874e-02,  ..., -1.2780e-01,\n",
      "           -1.3780e-01, -1.5246e-01],\n",
      "          [ 2.1269e-03, -3.9276e-02, -4.0883e-02,  ..., -1.2735e-01,\n",
      "           -1.3622e-01, -1.5483e-01],\n",
      "          [-4.6709e-02, -4.8882e-02, -4.2798e-02,  ..., -1.4328e-01,\n",
      "           -1.5471e-01, -1.8020e-01]],\n",
      "\n",
      "         [[ 8.9018e-02,  1.0199e-01,  1.3197e-01,  ...,  1.1078e-01,\n",
      "            1.0633e-01,  5.3659e-02],\n",
      "          [ 8.6371e-02,  9.3042e-02,  1.1310e-01,  ...,  1.3237e-01,\n",
      "            1.3016e-01,  4.4928e-02],\n",
      "          [ 7.8957e-02,  1.0080e-01,  1.2359e-01,  ...,  1.4256e-01,\n",
      "            1.4279e-01,  6.7905e-02],\n",
      "          ...,\n",
      "          [ 4.8263e-02,  6.2555e-02,  1.0228e-01,  ..., -1.8491e-02,\n",
      "           -2.4374e-02, -7.3115e-02],\n",
      "          [ 3.7663e-02,  4.6915e-02,  8.9956e-02,  ..., -3.3611e-02,\n",
      "           -3.6473e-02, -8.4103e-02],\n",
      "          [ 2.9794e-02,  2.2157e-02,  5.5718e-02,  ..., -3.3562e-02,\n",
      "           -3.4070e-02, -7.2610e-02]],\n",
      "\n",
      "         [[-1.8149e-02, -1.2375e-02, -9.7456e-03,  ...,  3.1362e-02,\n",
      "            2.7647e-02,  4.0079e-02],\n",
      "          [-9.4175e-03, -9.4193e-03,  4.1793e-04,  ...,  3.8282e-02,\n",
      "            3.6658e-02,  5.4186e-02],\n",
      "          [-2.7195e-02, -2.0276e-02,  1.9894e-03,  ...,  3.3207e-02,\n",
      "            3.5386e-02,  5.1932e-02],\n",
      "          ...,\n",
      "          [-3.2482e-02,  5.9715e-03,  7.3162e-03,  ...,  2.8053e-02,\n",
      "            2.9095e-02,  3.8502e-02],\n",
      "          [-4.5199e-02, -2.8508e-03, -1.2319e-03,  ...,  2.2043e-02,\n",
      "            2.3077e-02,  3.1851e-02],\n",
      "          [-3.8967e-02,  2.6465e-03, -1.9698e-03,  ...,  3.4191e-02,\n",
      "            3.7610e-02,  4.4744e-02]]],\n",
      "\n",
      "\n",
      "        [[[-4.3626e-02, -3.7829e-02, -4.4147e-02,  ..., -4.7824e-02,\n",
      "           -4.4242e-02, -4.1797e-02],\n",
      "          [-3.5669e-02, -1.6919e-02, -2.4476e-02,  ..., -2.3730e-02,\n",
      "           -2.2519e-02, -3.0208e-02],\n",
      "          [-3.2776e-02, -2.5350e-02, -2.7786e-02,  ..., -2.9276e-02,\n",
      "           -2.7869e-02, -3.6151e-02],\n",
      "          ...,\n",
      "          [-1.8616e-02, -8.3452e-03, -1.8865e-02,  ...,  2.2386e-02,\n",
      "            2.2339e-02,  3.4690e-03],\n",
      "          [-1.1744e-02, -3.6345e-03, -1.4706e-02,  ...,  2.4205e-02,\n",
      "            2.3934e-02,  5.0674e-03],\n",
      "          [-2.7020e-02, -2.5766e-02, -3.5274e-02,  ..., -1.7598e-03,\n",
      "           -2.1993e-03, -1.7957e-02]],\n",
      "\n",
      "         [[ 3.1725e-02, -5.5403e-02, -5.7646e-02,  ..., -1.0754e-01,\n",
      "           -1.1506e-01, -7.0229e-02],\n",
      "          [-1.1373e-01, -1.9541e-01, -1.7272e-01,  ..., -1.8421e-01,\n",
      "           -1.9171e-01, -1.6814e-01],\n",
      "          [-1.0613e-01, -1.5584e-01, -1.3990e-01,  ..., -1.7643e-01,\n",
      "           -1.8156e-01, -1.4346e-01],\n",
      "          ...,\n",
      "          [-1.2488e-01, -2.1351e-01, -1.8327e-01,  ..., -1.3205e-01,\n",
      "           -1.2982e-01, -1.1661e-01],\n",
      "          [-1.2843e-01, -2.1886e-01, -1.9313e-01,  ..., -1.3419e-01,\n",
      "           -1.3329e-01, -1.2060e-01],\n",
      "          [-6.5987e-02, -1.7833e-01, -1.6272e-01,  ..., -7.5679e-02,\n",
      "           -7.2438e-02, -4.6775e-02]],\n",
      "\n",
      "         [[ 2.2049e-02,  2.6991e-02,  4.6686e-02,  ...,  6.1131e-02,\n",
      "            6.6643e-02,  6.0178e-02],\n",
      "          [ 3.3618e-02,  4.4702e-02,  3.3701e-02,  ...,  5.7822e-02,\n",
      "            6.2084e-02,  5.9634e-02],\n",
      "          [ 2.3777e-02,  3.7307e-02,  4.3140e-02,  ...,  6.0082e-02,\n",
      "            6.5351e-02,  5.9981e-02],\n",
      "          ...,\n",
      "          [ 4.0375e-02,  4.6490e-02,  4.9077e-02,  ...,  8.4995e-02,\n",
      "            8.6929e-02,  6.6118e-02],\n",
      "          [ 4.5230e-02,  5.0836e-02,  5.3176e-02,  ...,  8.4873e-02,\n",
      "            8.6412e-02,  6.4046e-02],\n",
      "          [ 3.0740e-02,  3.0171e-02,  3.7162e-02,  ...,  5.9467e-02,\n",
      "            6.0198e-02,  4.4332e-02]],\n",
      "\n",
      "         ...,\n",
      "\n",
      "         [[-2.6694e-01, -2.2473e-01, -2.3910e-01,  ..., -1.8297e-01,\n",
      "           -1.8917e-01, -1.7688e-01],\n",
      "          [-2.0939e-01, -2.2506e-01, -1.9372e-01,  ..., -1.9787e-01,\n",
      "           -2.0399e-01, -1.7676e-01],\n",
      "          [-1.8281e-01, -2.0500e-01, -2.0598e-01,  ..., -1.7107e-01,\n",
      "           -1.8335e-01, -1.6000e-01],\n",
      "          ...,\n",
      "          [-1.1383e-03, -5.1915e-02, -4.9131e-02,  ..., -1.2488e-01,\n",
      "           -1.3536e-01, -1.5115e-01],\n",
      "          [-7.3617e-03, -4.9911e-02, -4.6715e-02,  ..., -1.2492e-01,\n",
      "           -1.3455e-01, -1.5361e-01],\n",
      "          [-5.3436e-02, -5.7566e-02, -4.9406e-02,  ..., -1.4257e-01,\n",
      "           -1.5413e-01, -1.7934e-01]],\n",
      "\n",
      "         [[ 1.0636e-01,  1.4085e-01,  1.7145e-01,  ...,  1.0617e-01,\n",
      "            1.0390e-01,  5.1663e-02],\n",
      "          [ 6.8760e-02,  1.1317e-01,  1.4351e-01,  ...,  1.2453e-01,\n",
      "            1.2168e-01,  3.8578e-02],\n",
      "          [ 9.0094e-02,  1.1772e-01,  1.5673e-01,  ...,  1.3516e-01,\n",
      "            1.3418e-01,  6.1380e-02],\n",
      "          ...,\n",
      "          [ 5.0200e-02,  6.5663e-02,  1.0535e-01,  ..., -1.9841e-02,\n",
      "           -2.5707e-02, -7.4532e-02],\n",
      "          [ 3.8597e-02,  4.9214e-02,  9.1296e-02,  ..., -3.5689e-02,\n",
      "           -3.8505e-02, -8.6028e-02],\n",
      "          [ 3.0366e-02,  2.4659e-02,  5.8838e-02,  ..., -3.6008e-02,\n",
      "           -3.6433e-02, -7.4722e-02]],\n",
      "\n",
      "         [[ 7.3736e-03, -1.1968e-02,  2.2961e-03,  ...,  2.9660e-02,\n",
      "            2.5856e-02,  3.9100e-02],\n",
      "          [-3.9964e-02,  3.2241e-02, -9.8136e-03,  ...,  3.7308e-02,\n",
      "            3.4358e-02,  5.3990e-02],\n",
      "          [-3.7289e-02, -1.4809e-02,  1.7789e-02,  ...,  3.3257e-02,\n",
      "            3.3833e-02,  5.1954e-02],\n",
      "          ...,\n",
      "          [-3.3447e-02,  4.2508e-03,  5.8281e-03,  ...,  2.7361e-02,\n",
      "            2.8413e-02,  3.8530e-02],\n",
      "          [-4.5430e-02, -3.4927e-03, -1.9070e-03,  ...,  2.1758e-02,\n",
      "            2.2864e-02,  3.2239e-02],\n",
      "          [-4.0542e-02, -8.5693e-04, -5.6243e-03,  ...,  3.3518e-02,\n",
      "            3.7036e-02,  4.4657e-02]]],\n",
      "\n",
      "\n",
      "        [[[-4.6010e-02, -3.7365e-02, -4.8223e-02,  ..., -4.7804e-02,\n",
      "           -4.3946e-02, -4.1469e-02],\n",
      "          [-3.8895e-02, -3.0430e-02, -3.1312e-02,  ..., -2.3876e-02,\n",
      "           -2.2700e-02, -3.0170e-02],\n",
      "          [-4.3153e-02, -3.1959e-02, -3.7127e-02,  ..., -2.8969e-02,\n",
      "           -2.7724e-02, -3.5935e-02],\n",
      "          ...,\n",
      "          [-1.8503e-02, -8.0735e-03, -1.8581e-02,  ...,  2.2507e-02,\n",
      "            2.2528e-02,  3.9411e-03],\n",
      "          [-1.1730e-02, -3.5097e-03, -1.4458e-02,  ...,  2.4170e-02,\n",
      "            2.3993e-02,  5.3805e-03],\n",
      "          [-2.6823e-02, -2.5520e-02, -3.4898e-02,  ..., -1.8217e-03,\n",
      "           -2.1290e-03, -1.7637e-02]],\n",
      "\n",
      "         [[-6.5190e-03, -5.8696e-02, -6.0365e-02,  ..., -1.0918e-01,\n",
      "           -1.1811e-01, -7.1248e-02],\n",
      "          [-1.2790e-01, -1.6617e-01, -1.5401e-01,  ..., -1.8825e-01,\n",
      "           -1.9338e-01, -1.7031e-01],\n",
      "          [-6.8129e-02, -1.3771e-01, -1.3132e-01,  ..., -1.7930e-01,\n",
      "           -1.8257e-01, -1.4487e-01],\n",
      "          ...,\n",
      "          [-1.2681e-01, -2.1553e-01, -1.8539e-01,  ..., -1.3069e-01,\n",
      "           -1.2931e-01, -1.1526e-01],\n",
      "          [-1.3085e-01, -2.2144e-01, -1.9642e-01,  ..., -1.3282e-01,\n",
      "           -1.3250e-01, -1.1934e-01],\n",
      "          [-7.0036e-02, -1.8163e-01, -1.6799e-01,  ..., -7.6405e-02,\n",
      "           -7.3499e-02, -4.7258e-02]],\n",
      "\n",
      "         [[ 2.7913e-02,  4.7171e-02,  5.3507e-02,  ...,  5.9813e-02,\n",
      "            6.5894e-02,  5.9351e-02],\n",
      "          [ 1.4065e-02,  2.9885e-02,  4.7107e-02,  ...,  5.6116e-02,\n",
      "            6.0921e-02,  5.8833e-02],\n",
      "          [ 1.9563e-02,  3.8408e-02,  4.0232e-02,  ...,  5.8916e-02,\n",
      "            6.4600e-02,  5.9197e-02],\n",
      "          ...,\n",
      "          [ 4.0145e-02,  4.6158e-02,  4.8736e-02,  ...,  8.5102e-02,\n",
      "            8.7122e-02,  6.6101e-02],\n",
      "          [ 4.5417e-02,  5.0955e-02,  5.3458e-02,  ...,  8.4889e-02,\n",
      "            8.6530e-02,  6.3887e-02],\n",
      "          [ 3.1731e-02,  3.0661e-02,  3.7708e-02,  ...,  5.9628e-02,\n",
      "            6.0505e-02,  4.4398e-02]],\n",
      "\n",
      "         ...,\n",
      "\n",
      "         [[-3.0097e-01, -2.5322e-01, -2.4507e-01,  ..., -1.8919e-01,\n",
      "           -1.9662e-01, -1.8454e-01],\n",
      "          [-1.9612e-01, -1.9774e-01, -2.1635e-01,  ..., -2.0833e-01,\n",
      "           -2.1616e-01, -1.8951e-01],\n",
      "          [-1.5737e-01, -1.7802e-01, -2.0071e-01,  ..., -1.8563e-01,\n",
      "           -1.9851e-01, -1.7736e-01],\n",
      "          ...,\n",
      "          [-1.0788e-02, -5.9393e-02, -5.5523e-02,  ..., -1.2866e-01,\n",
      "           -1.3811e-01, -1.5488e-01],\n",
      "          [-1.5146e-02, -5.5774e-02, -5.2373e-02,  ..., -1.2799e-01,\n",
      "           -1.3681e-01, -1.5670e-01],\n",
      "          [-6.0366e-02, -6.2055e-02, -5.3930e-02,  ..., -1.4581e-01,\n",
      "           -1.5693e-01, -1.8293e-01]],\n",
      "\n",
      "         [[ 9.3172e-02,  1.3747e-01,  1.3188e-01,  ...,  9.6931e-02,\n",
      "            9.4593e-02,  4.2939e-02],\n",
      "          [ 7.6335e-02,  1.0954e-01,  1.3516e-01,  ...,  1.1738e-01,\n",
      "            1.1388e-01,  3.0360e-02],\n",
      "          [ 8.7579e-02,  1.0068e-01,  1.2988e-01,  ...,  1.2954e-01,\n",
      "            1.2799e-01,  5.4774e-02],\n",
      "          ...,\n",
      "          [ 5.3597e-02,  7.0772e-02,  1.1162e-01,  ..., -2.2616e-02,\n",
      "           -2.7979e-02, -7.7721e-02],\n",
      "          [ 4.1857e-02,  5.3444e-02,  9.7205e-02,  ..., -3.8033e-02,\n",
      "           -4.0335e-02, -8.8622e-02],\n",
      "          [ 3.2179e-02,  2.7655e-02,  6.1751e-02,  ..., -3.7433e-02,\n",
      "           -3.7592e-02, -7.6749e-02]],\n",
      "\n",
      "         [[-2.6582e-03, -1.7401e-02,  6.9676e-03,  ...,  3.1106e-02,\n",
      "            2.7346e-02,  4.0517e-02],\n",
      "          [-1.3173e-02, -6.8975e-03,  2.0676e-03,  ...,  3.7700e-02,\n",
      "            3.5267e-02,  5.5115e-02],\n",
      "          [-2.8873e-02,  2.3320e-04,  2.9357e-03,  ...,  3.3656e-02,\n",
      "            3.4454e-02,  5.2517e-02],\n",
      "          ...,\n",
      "          [-3.2676e-02,  5.5165e-03,  5.8964e-03,  ...,  2.7461e-02,\n",
      "            2.8640e-02,  3.8932e-02],\n",
      "          [-4.5098e-02, -2.6246e-03, -2.3586e-03,  ...,  2.1929e-02,\n",
      "            2.3125e-02,  3.2642e-02],\n",
      "          [-3.9771e-02,  4.0125e-04, -5.8687e-03,  ...,  3.3849e-02,\n",
      "            3.7459e-02,  4.5034e-02]]],\n",
      "\n",
      "\n",
      "        ...,\n",
      "\n",
      "\n",
      "        [[[-4.3462e-02, -3.5697e-02, -4.2898e-02,  ..., -4.6773e-02,\n",
      "           -4.3726e-02, -4.1402e-02],\n",
      "          [-2.5672e-02, -1.5363e-02, -2.4649e-02,  ..., -2.3774e-02,\n",
      "           -2.3380e-02, -3.1061e-02],\n",
      "          [-3.0501e-02, -2.0236e-02, -2.6687e-02,  ..., -2.7906e-02,\n",
      "           -2.7573e-02, -3.5759e-02],\n",
      "          ...,\n",
      "          [-1.9728e-02, -9.4683e-03, -2.0080e-02,  ...,  2.0370e-02,\n",
      "            2.0460e-02,  2.0166e-03],\n",
      "          [-1.3520e-02, -5.3520e-03, -1.6511e-02,  ...,  2.2434e-02,\n",
      "            2.2338e-02,  3.8160e-03],\n",
      "          [-2.7797e-02, -2.7179e-02, -3.6660e-02,  ..., -2.9015e-03,\n",
      "           -3.2115e-03, -1.8676e-02]],\n",
      "\n",
      "         [[ 5.9697e-02, -4.3396e-02, -4.3175e-02,  ..., -1.1349e-01,\n",
      "           -1.2032e-01, -7.3081e-02],\n",
      "          [-4.4187e-02, -1.5407e-01, -1.2624e-01,  ..., -1.9259e-01,\n",
      "           -1.9670e-01, -1.7263e-01],\n",
      "          [-9.9871e-02, -1.6984e-01, -1.2517e-01,  ..., -1.8081e-01,\n",
      "           -1.8277e-01, -1.4598e-01],\n",
      "          ...,\n",
      "          [-1.1496e-01, -2.0575e-01, -1.7327e-01,  ..., -1.3024e-01,\n",
      "           -1.2839e-01, -1.1456e-01],\n",
      "          [-1.1950e-01, -2.1333e-01, -1.8399e-01,  ..., -1.3321e-01,\n",
      "           -1.3234e-01, -1.1943e-01],\n",
      "          [-6.2672e-02, -1.7479e-01, -1.5690e-01,  ..., -7.6247e-02,\n",
      "           -7.2987e-02, -4.7440e-02]],\n",
      "\n",
      "         [[-5.1200e-03,  3.5202e-02,  4.5663e-02,  ...,  5.9598e-02,\n",
      "            6.5859e-02,  5.9272e-02],\n",
      "          [ 1.1321e-02,  3.6851e-02,  4.2737e-02,  ...,  5.5625e-02,\n",
      "            6.0390e-02,  5.8096e-02],\n",
      "          [ 2.3171e-02,  3.3825e-02,  4.2018e-02,  ...,  5.8998e-02,\n",
      "            6.3999e-02,  5.8556e-02],\n",
      "          ...,\n",
      "          [ 4.2094e-02,  4.6515e-02,  4.8838e-02,  ...,  8.5228e-02,\n",
      "            8.6999e-02,  6.6236e-02],\n",
      "          [ 4.6965e-02,  5.1104e-02,  5.3126e-02,  ...,  8.4970e-02,\n",
      "            8.6462e-02,  6.4176e-02],\n",
      "          [ 3.2164e-02,  3.0793e-02,  3.7433e-02,  ...,  5.9620e-02,\n",
      "            6.0395e-02,  4.4624e-02]],\n",
      "\n",
      "         ...,\n",
      "\n",
      "         [[-2.2505e-01, -2.5282e-01, -2.1770e-01,  ..., -1.8893e-01,\n",
      "           -1.9549e-01, -1.8470e-01],\n",
      "          [-1.9790e-01, -1.9459e-01, -1.7679e-01,  ..., -1.9674e-01,\n",
      "           -2.0406e-01, -1.7792e-01],\n",
      "          [-1.6503e-01, -1.8162e-01, -1.5647e-01,  ..., -1.7582e-01,\n",
      "           -1.8632e-01, -1.6200e-01],\n",
      "          ...,\n",
      "          [ 1.5716e-02, -3.5859e-02, -3.5628e-02,  ..., -1.1069e-01,\n",
      "           -1.2201e-01, -1.3795e-01],\n",
      "          [ 8.3367e-03, -3.7731e-02, -3.6814e-02,  ..., -1.1202e-01,\n",
      "           -1.2244e-01, -1.4200e-01],\n",
      "          [-3.8213e-02, -4.4244e-02, -3.5908e-02,  ..., -1.3098e-01,\n",
      "           -1.4370e-01, -1.6928e-01]],\n",
      "\n",
      "         [[ 9.4201e-02,  1.2109e-01,  1.4994e-01,  ...,  1.0589e-01,\n",
      "            1.0233e-01,  5.0897e-02],\n",
      "          [ 1.1011e-01,  1.1524e-01,  1.4866e-01,  ...,  1.2549e-01,\n",
      "            1.2281e-01,  3.9839e-02],\n",
      "          [ 1.0611e-01,  1.1131e-01,  1.4365e-01,  ...,  1.3412e-01,\n",
      "            1.3275e-01,  6.0708e-02],\n",
      "          ...,\n",
      "          [ 4.5076e-02,  5.9460e-02,  9.7282e-02,  ..., -2.1185e-02,\n",
      "           -2.6237e-02, -7.5042e-02],\n",
      "          [ 3.6326e-02,  4.5929e-02,  8.6226e-02,  ..., -3.6074e-02,\n",
      "           -3.8456e-02, -8.6089e-02],\n",
      "          [ 3.0392e-02,  2.4725e-02,  5.5648e-02,  ..., -3.5624e-02,\n",
      "           -3.5879e-02, -7.4198e-02]],\n",
      "\n",
      "         [[ 1.1123e-02, -1.7100e-03, -4.6265e-03,  ...,  3.1076e-02,\n",
      "            2.6141e-02,  3.9819e-02],\n",
      "          [ 1.1276e-02,  4.6834e-03,  2.6062e-02,  ...,  3.9341e-02,\n",
      "            3.6212e-02,  5.5281e-02],\n",
      "          [-3.5069e-02,  1.6062e-02,  1.3983e-02,  ...,  3.6685e-02,\n",
      "            3.6709e-02,  5.4534e-02],\n",
      "          ...,\n",
      "          [-3.3513e-02,  5.2731e-03,  7.8599e-03,  ...,  2.7283e-02,\n",
      "            2.8249e-02,  3.8621e-02],\n",
      "          [-4.6975e-02, -4.0147e-03, -2.1415e-03,  ...,  2.1196e-02,\n",
      "            2.2338e-02,  3.2202e-02],\n",
      "          [-4.1454e-02, -6.3392e-05, -5.7901e-03,  ...,  3.3586e-02,\n",
      "            3.7020e-02,  4.4958e-02]]],\n",
      "\n",
      "\n",
      "        [[[-3.9631e-02, -3.5461e-02, -4.2617e-02,  ..., -4.7204e-02,\n",
      "           -4.3804e-02, -4.1584e-02],\n",
      "          [-3.2182e-02, -1.5497e-02, -3.3839e-02,  ..., -2.3792e-02,\n",
      "           -2.3445e-02, -3.0734e-02],\n",
      "          [-3.3400e-02, -1.6940e-02, -2.7562e-02,  ..., -2.9143e-02,\n",
      "           -2.8586e-02, -3.6489e-02],\n",
      "          ...,\n",
      "          [-2.0181e-02, -1.0893e-02, -2.1517e-02,  ...,  2.0362e-02,\n",
      "            2.0558e-02,  2.3110e-03],\n",
      "          [-1.3937e-02, -6.6003e-03, -1.7788e-02,  ...,  2.2536e-02,\n",
      "            2.2517e-02,  4.1821e-03],\n",
      "          [-2.7863e-02, -2.8022e-02, -3.7675e-02,  ..., -2.7490e-03,\n",
      "           -3.0053e-03, -1.8269e-02]],\n",
      "\n",
      "         [[ 3.2580e-02, -3.4386e-02, -3.3133e-02,  ..., -1.1319e-01,\n",
      "           -1.2136e-01, -7.3830e-02],\n",
      "          [-7.8878e-02, -1.7785e-01, -1.3306e-01,  ..., -1.9056e-01,\n",
      "           -1.9546e-01, -1.7166e-01],\n",
      "          [-6.5909e-02, -1.4102e-01, -1.0559e-01,  ..., -1.7927e-01,\n",
      "           -1.8157e-01, -1.4518e-01],\n",
      "          ...,\n",
      "          [-1.1411e-01, -1.9940e-01, -1.7049e-01,  ..., -1.3051e-01,\n",
      "           -1.2932e-01, -1.1521e-01],\n",
      "          [-1.2023e-01, -2.0806e-01, -1.8118e-01,  ..., -1.3425e-01,\n",
      "           -1.3394e-01, -1.2074e-01],\n",
      "          [-6.5368e-02, -1.7030e-01, -1.5417e-01,  ..., -7.7015e-02,\n",
      "           -7.3967e-02, -4.8058e-02]],\n",
      "\n",
      "         [[ 2.2065e-02,  4.9383e-02,  6.9761e-02,  ...,  6.0960e-02,\n",
      "            6.6375e-02,  6.0272e-02],\n",
      "          [ 2.2362e-02,  3.4721e-02,  4.8774e-02,  ...,  5.6624e-02,\n",
      "            6.0824e-02,  5.8958e-02],\n",
      "          [ 1.9063e-02,  3.1827e-02,  3.6417e-02,  ...,  5.9414e-02,\n",
      "            6.3958e-02,  5.9273e-02],\n",
      "          ...,\n",
      "          [ 4.1986e-02,  4.7880e-02,  5.0685e-02,  ...,  8.5183e-02,\n",
      "            8.7071e-02,  6.6475e-02],\n",
      "          [ 4.7385e-02,  5.2695e-02,  5.5129e-02,  ...,  8.5106e-02,\n",
      "            8.6604e-02,  6.4392e-02],\n",
      "          [ 3.2325e-02,  3.1956e-02,  3.8692e-02,  ...,  5.9725e-02,\n",
      "            6.0526e-02,  4.4806e-02]],\n",
      "\n",
      "         ...,\n",
      "\n",
      "         [[-2.4564e-01, -2.1770e-01, -2.2911e-01,  ..., -1.7753e-01,\n",
      "           -1.8480e-01, -1.7675e-01],\n",
      "          [-2.0860e-01, -1.8532e-01, -1.9078e-01,  ..., -1.8730e-01,\n",
      "           -1.9182e-01, -1.7113e-01],\n",
      "          [-1.7715e-01, -1.8016e-01, -1.7169e-01,  ..., -1.6657e-01,\n",
      "           -1.7589e-01, -1.5592e-01],\n",
      "          ...,\n",
      "          [ 2.1309e-02, -2.4413e-02, -2.6962e-02,  ..., -1.0675e-01,\n",
      "           -1.1916e-01, -1.3596e-01],\n",
      "          [ 1.1672e-02, -2.6771e-02, -2.7838e-02,  ..., -1.0895e-01,\n",
      "           -1.2034e-01, -1.4062e-01],\n",
      "          [-3.8015e-02, -3.6414e-02, -2.9372e-02,  ..., -1.2989e-01,\n",
      "           -1.4334e-01, -1.6943e-01]],\n",
      "\n",
      "         [[ 1.2272e-01,  1.3845e-01,  1.6327e-01,  ...,  1.1513e-01,\n",
      "            1.1128e-01,  6.0023e-02],\n",
      "          [ 9.6766e-02,  1.2026e-01,  1.3915e-01,  ...,  1.3102e-01,\n",
      "            1.2876e-01,  4.7047e-02],\n",
      "          [ 9.7916e-02,  1.0589e-01,  1.4183e-01,  ...,  1.3871e-01,\n",
      "            1.3801e-01,  6.6085e-02],\n",
      "          ...,\n",
      "          [ 4.0711e-02,  5.3488e-02,  9.0184e-02,  ..., -1.9823e-02,\n",
      "           -2.4995e-02, -7.4351e-02],\n",
      "          [ 3.0475e-02,  3.8328e-02,  7.8124e-02,  ..., -3.4723e-02,\n",
      "           -3.7173e-02, -8.5181e-02],\n",
      "          [ 2.3745e-02,  1.5630e-02,  4.5944e-02,  ..., -3.5171e-02,\n",
      "           -3.5368e-02, -7.3703e-02]],\n",
      "\n",
      "         [[-8.2859e-03, -1.3090e-02, -1.4946e-05,  ...,  2.9756e-02,\n",
      "            2.5551e-02,  3.9003e-02],\n",
      "          [ 1.0163e-02,  3.5830e-02,  2.4789e-02,  ...,  4.0278e-02,\n",
      "            3.7985e-02,  5.7286e-02],\n",
      "          [-1.6978e-02,  1.1831e-02,  8.0153e-03,  ...,  3.6781e-02,\n",
      "            3.7244e-02,  5.4878e-02],\n",
      "          ...,\n",
      "          [-3.2775e-02,  5.2087e-03,  8.7605e-03,  ...,  2.7730e-02,\n",
      "            2.8743e-02,  3.9275e-02],\n",
      "          [-4.6083e-02, -3.9388e-03, -6.4749e-04,  ...,  2.1470e-02,\n",
      "            2.2690e-02,  3.2674e-02],\n",
      "          [-3.9709e-02,  9.0605e-04, -3.9862e-03,  ...,  3.3845e-02,\n",
      "            3.7354e-02,  4.5367e-02]]],\n",
      "\n",
      "\n",
      "        [[[-3.4841e-02, -3.3866e-02, -4.1120e-02,  ..., -4.7017e-02,\n",
      "           -4.3935e-02, -4.1681e-02],\n",
      "          [-2.5136e-02, -1.1709e-02, -2.5062e-02,  ..., -2.3494e-02,\n",
      "           -2.3242e-02, -3.1073e-02],\n",
      "          [-3.0192e-02, -1.5704e-02, -2.5627e-02,  ..., -2.9290e-02,\n",
      "           -2.8927e-02, -3.7366e-02],\n",
      "          ...,\n",
      "          [-2.0257e-02, -1.1136e-02, -2.1591e-02,  ...,  1.9710e-02,\n",
      "            1.9789e-02,  1.5357e-03],\n",
      "          [-1.3563e-02, -6.4529e-03, -1.7561e-02,  ...,  2.2018e-02,\n",
      "            2.1983e-02,  3.6640e-03],\n",
      "          [-2.7805e-02, -2.8052e-02, -3.7529e-02,  ..., -3.2074e-03,\n",
      "           -3.4813e-03, -1.8780e-02]],\n",
      "\n",
      "         [[ 5.9498e-02, -4.2601e-02, -3.6014e-02,  ..., -1.1163e-01,\n",
      "           -1.2042e-01, -7.1306e-02],\n",
      "          [-1.1447e-01, -1.9193e-01, -1.5443e-01,  ..., -1.9254e-01,\n",
      "           -1.9923e-01, -1.7206e-01],\n",
      "          [-7.2961e-02, -1.0233e-01, -1.2175e-01,  ..., -1.7813e-01,\n",
      "           -1.8217e-01, -1.4366e-01],\n",
      "          ...,\n",
      "          [-1.0708e-01, -2.0002e-01, -1.6822e-01,  ..., -1.2998e-01,\n",
      "           -1.2848e-01, -1.1352e-01],\n",
      "          [-1.1310e-01, -2.0665e-01, -1.7745e-01,  ..., -1.3337e-01,\n",
      "           -1.3300e-01, -1.1899e-01],\n",
      "          [-5.8688e-02, -1.6662e-01, -1.4864e-01,  ..., -7.5908e-02,\n",
      "           -7.2814e-02, -4.6573e-02]],\n",
      "\n",
      "         [[ 7.9329e-03,  3.7739e-02,  3.2403e-02,  ...,  6.1197e-02,\n",
      "            6.6804e-02,  6.0269e-02],\n",
      "          [ 1.8583e-02,  3.6354e-02,  3.4828e-02,  ...,  5.7150e-02,\n",
      "            6.1261e-02,  5.9321e-02],\n",
      "          [ 2.1263e-02,  3.1119e-02,  3.9887e-02,  ...,  5.8894e-02,\n",
      "            6.4090e-02,  5.9090e-02],\n",
      "          ...,\n",
      "          [ 4.2663e-02,  4.7873e-02,  5.0648e-02,  ...,  8.4876e-02,\n",
      "            8.6698e-02,  6.6179e-02],\n",
      "          [ 4.7602e-02,  5.2611e-02,  5.5600e-02,  ...,  8.4897e-02,\n",
      "            8.6336e-02,  6.4295e-02],\n",
      "          [ 3.2517e-02,  3.1574e-02,  3.8656e-02,  ...,  5.9391e-02,\n",
      "            6.0162e-02,  4.4525e-02]],\n",
      "\n",
      "         ...,\n",
      "\n",
      "         [[-2.3864e-01, -2.2178e-01, -2.0182e-01,  ..., -1.7234e-01,\n",
      "           -1.7863e-01, -1.7208e-01],\n",
      "          [-1.7754e-01, -1.5820e-01, -1.6730e-01,  ..., -1.8184e-01,\n",
      "           -1.8480e-01, -1.6554e-01],\n",
      "          [-1.7225e-01, -1.5913e-01, -1.5436e-01,  ..., -1.6196e-01,\n",
      "           -1.6816e-01, -1.4518e-01],\n",
      "          ...,\n",
      "          [ 4.0143e-02, -1.1151e-02, -1.0980e-02,  ..., -1.0002e-01,\n",
      "           -1.1297e-01, -1.3074e-01],\n",
      "          [ 2.9817e-02, -1.0560e-02, -7.8633e-03,  ..., -1.0320e-01,\n",
      "           -1.1497e-01, -1.3616e-01],\n",
      "          [-1.9810e-02, -2.0937e-02, -1.0485e-02,  ..., -1.2469e-01,\n",
      "           -1.3826e-01, -1.6473e-01]],\n",
      "\n",
      "         [[ 1.1420e-01,  1.3100e-01,  1.5752e-01,  ...,  1.1092e-01,\n",
      "            1.0788e-01,  5.5786e-02],\n",
      "          [ 8.7081e-02,  1.0517e-01,  1.4633e-01,  ...,  1.2705e-01,\n",
      "            1.2680e-01,  4.3923e-02],\n",
      "          [ 1.0245e-01,  1.2382e-01,  1.5444e-01,  ...,  1.3622e-01,\n",
      "            1.3653e-01,  6.4872e-02],\n",
      "          ...,\n",
      "          [ 3.4349e-02,  4.8142e-02,  8.5478e-02,  ..., -2.0435e-02,\n",
      "           -2.5250e-02, -7.3484e-02],\n",
      "          [ 2.5688e-02,  3.5294e-02,  7.5062e-02,  ..., -3.4866e-02,\n",
      "           -3.6982e-02, -8.4274e-02],\n",
      "          [ 1.9667e-02,  1.3521e-02,  4.4432e-02,  ..., -3.4889e-02,\n",
      "           -3.5010e-02, -7.3028e-02]],\n",
      "\n",
      "         [[ 7.3604e-04,  1.6128e-02,  2.0565e-02,  ...,  3.0974e-02,\n",
      "            2.6397e-02,  3.9515e-02],\n",
      "          [-3.4959e-02, -1.7832e-02,  2.2087e-02,  ...,  3.9976e-02,\n",
      "            3.8315e-02,  5.7085e-02],\n",
      "          [-3.5775e-03,  9.7731e-03,  1.9985e-03,  ...,  3.7309e-02,\n",
      "            3.8397e-02,  5.5486e-02],\n",
      "          ...,\n",
      "          [-3.2492e-02,  5.8273e-03,  8.3088e-03,  ...,  2.7292e-02,\n",
      "            2.8398e-02,  3.8450e-02],\n",
      "          [-4.4833e-02, -2.8086e-03, -2.6459e-04,  ...,  2.1372e-02,\n",
      "            2.2436e-02,  3.2064e-02],\n",
      "          [-3.9361e-02,  2.2428e-03, -3.0482e-03,  ...,  3.3698e-02,\n",
      "            3.7223e-02,  4.4966e-02]]]]) tensor([[[[0, 0, 0,  ..., 0, 0, 0],\n",
      "          [0, 0, 0,  ..., 0, 0, 0],\n",
      "          [0, 0, 0,  ..., 0, 0, 0],\n",
      "          ...,\n",
      "          [0, 0, 0,  ..., 0, 0, 0],\n",
      "          [0, 0, 0,  ..., 0, 0, 0],\n",
      "          [0, 0, 0,  ..., 0, 0, 0]]],\n",
      "\n",
      "\n",
      "        [[[0, 0, 0,  ..., 0, 0, 0],\n",
      "          [0, 0, 0,  ..., 0, 0, 0],\n",
      "          [0, 0, 0,  ..., 0, 0, 0],\n",
      "          ...,\n",
      "          [0, 0, 0,  ..., 0, 0, 0],\n",
      "          [0, 0, 0,  ..., 0, 0, 0],\n",
      "          [0, 0, 0,  ..., 0, 0, 0]]],\n",
      "\n",
      "\n",
      "        [[[0, 0, 0,  ..., 0, 0, 0],\n",
      "          [0, 0, 0,  ..., 0, 0, 0],\n",
      "          [0, 0, 0,  ..., 0, 0, 0],\n",
      "          ...,\n",
      "          [0, 0, 0,  ..., 0, 0, 0],\n",
      "          [0, 0, 0,  ..., 0, 0, 0],\n",
      "          [0, 0, 0,  ..., 0, 0, 0]]],\n",
      "\n",
      "\n",
      "        ...,\n",
      "\n",
      "\n",
      "        [[[0, 0, 0,  ..., 0, 0, 0],\n",
      "          [0, 0, 0,  ..., 0, 0, 0],\n",
      "          [0, 0, 0,  ..., 0, 0, 0],\n",
      "          ...,\n",
      "          [0, 0, 0,  ..., 0, 0, 0],\n",
      "          [0, 0, 0,  ..., 0, 0, 0],\n",
      "          [0, 0, 0,  ..., 0, 0, 0]]],\n",
      "\n",
      "\n",
      "        [[[0, 0, 0,  ..., 0, 0, 0],\n",
      "          [0, 0, 0,  ..., 0, 0, 0],\n",
      "          [0, 0, 0,  ..., 0, 0, 0],\n",
      "          ...,\n",
      "          [0, 0, 0,  ..., 0, 0, 0],\n",
      "          [0, 0, 0,  ..., 0, 0, 0],\n",
      "          [0, 0, 0,  ..., 0, 0, 0]]],\n",
      "\n",
      "\n",
      "        [[[0, 0, 0,  ..., 0, 0, 0],\n",
      "          [0, 0, 0,  ..., 0, 0, 0],\n",
      "          [0, 0, 0,  ..., 0, 0, 0],\n",
      "          ...,\n",
      "          [0, 0, 0,  ..., 0, 0, 0],\n",
      "          [0, 0, 0,  ..., 0, 0, 0],\n",
      "          [0, 0, 0,  ..., 0, 0, 0]]]]) tensor([[  0.,   0., 256., 256.],\n",
      "        [  0.,   0., 256., 256.],\n",
      "        [  0.,   0., 256., 256.],\n",
      "        [  0.,   0., 256., 256.],\n",
      "        [  0.,   0., 256., 256.],\n",
      "        [  0.,   0., 256., 256.],\n",
      "        [  0.,   0., 256., 256.],\n",
      "        [  0.,   0., 256., 256.],\n",
      "        [  0.,   0., 256., 256.],\n",
      "        [  0.,   0., 256., 256.],\n",
      "        [  0.,   0., 256., 256.],\n",
      "        [  0.,   0., 256., 256.],\n",
      "        [  0.,   0., 256., 256.],\n",
      "        [  0.,   0., 256., 256.],\n",
      "        [  0.,   0., 256., 256.],\n",
      "        [  0.,   0., 256., 256.],\n",
      "        [  0.,   0., 256., 256.],\n",
      "        [  0.,   0., 256., 256.],\n",
      "        [  0.,   0., 256., 256.],\n",
      "        [  0.,   0., 256., 256.],\n",
      "        [  0.,   0., 256., 256.],\n",
      "        [  0.,   0., 256., 256.],\n",
      "        [  0.,   0., 256., 256.],\n",
      "        [  0.,   0., 256., 256.],\n",
      "        [  0.,   0., 256., 256.],\n",
      "        [  0.,   0., 256., 256.],\n",
      "        [  0.,   0., 256., 256.],\n",
      "        [  0.,   0., 256., 256.],\n",
      "        [  0.,   0., 256., 256.],\n",
      "        [  0.,   0., 256., 256.],\n",
      "        [  0.,   0., 256., 256.],\n",
      "        [  0.,   0., 256., 256.],\n",
      "        [  0.,   0., 256., 256.],\n",
      "        [  0.,   0., 256., 256.],\n",
      "        [  0.,   0., 256., 256.],\n",
      "        [  0.,   0., 256., 256.],\n",
      "        [  0.,   0., 256., 256.],\n",
      "        [  0.,   0., 256., 256.],\n",
      "        [  0.,   0., 256., 256.],\n",
      "        [  0.,   0., 256., 256.],\n",
      "        [  0.,   0., 256., 256.],\n",
      "        [  0.,   0., 256., 256.],\n",
      "        [  0.,   0., 256., 256.],\n",
      "        [  0.,   0., 256., 256.],\n",
      "        [  0.,   0., 256., 256.],\n",
      "        [  0.,   0., 256., 256.],\n",
      "        [  0.,   0., 256., 256.],\n",
      "        [  0.,   0., 256., 256.],\n",
      "        [  0.,   0., 256., 256.],\n",
      "        [  0.,   0., 256., 256.],\n",
      "        [  0.,   0., 256., 256.],\n",
      "        [  0.,   0., 256., 256.],\n",
      "        [  0.,   0., 256., 256.],\n",
      "        [  0.,   0., 256., 256.],\n",
      "        [  0.,   0., 256., 256.],\n",
      "        [  0.,   0., 256., 256.],\n",
      "        [  0.,   0., 256., 256.],\n",
      "        [  0.,   0., 256., 256.],\n",
      "        [  0.,   0., 256., 256.],\n",
      "        [  0.,   0., 256., 256.],\n",
      "        [  0.,   0., 256., 256.],\n",
      "        [  0.,   0., 256., 256.],\n",
      "        [  0.,   0., 256., 256.],\n",
      "        [  0.,   0., 256., 256.]]) torch.Size([64, 4])\n"
     ]
    },
    {
     "name": "stderr",
     "output_type": "stream",
     "text": [
      "\n"
     ]
    }
   ],
   "source": [
    "train_dataset = NpzDataset(npz_tr_path)\n",
    "train_dataloader = DataLoader(train_dataset, batch_size=64, shuffle=True, drop_last=True)\n",
    "for step, (image_embedding, gt2D, boxes) in enumerate(tqdm(train_dataloader)):\n",
    "    print(image_embedding, gt2D, boxes, boxes.shape)\n",
    "    break"
   ]
  },
  {
   "cell_type": "code",
   "execution_count": 6,
   "metadata": {},
   "outputs": [
    {
     "name": "stdout",
     "output_type": "stream",
     "text": [
      "self.img_embeddings.shape=(1701, 256, 64, 64), self.ori_gts.shape=(1701, 256, 256)\n"
     ]
    },
    {
     "name": "stderr",
     "output_type": "stream",
     "text": [
      "100%|██████████| 26/26 [00:18<00:00,  1.43it/s]\n"
     ]
    },
    {
     "name": "stdout",
     "output_type": "stream",
     "text": [
      "EPOCH: 0, Loss: 0.6825231802463532\n"
     ]
    },
    {
     "name": "stderr",
     "output_type": "stream",
     "text": [
      "100%|██████████| 26/26 [00:18<00:00,  1.40it/s]\n"
     ]
    },
    {
     "name": "stdout",
     "output_type": "stream",
     "text": [
      "EPOCH: 1, Loss: 0.40530417203903196\n"
     ]
    },
    {
     "name": "stderr",
     "output_type": "stream",
     "text": [
      "100%|██████████| 26/26 [00:18<00:00,  1.42it/s]\n"
     ]
    },
    {
     "name": "stdout",
     "output_type": "stream",
     "text": [
      "EPOCH: 2, Loss: 0.32363170564174654\n"
     ]
    },
    {
     "name": "stderr",
     "output_type": "stream",
     "text": [
      "100%|██████████| 26/26 [00:18<00:00,  1.41it/s]\n"
     ]
    },
    {
     "name": "stdout",
     "output_type": "stream",
     "text": [
      "EPOCH: 3, Loss: 0.28400407910346986\n"
     ]
    },
    {
     "name": "stderr",
     "output_type": "stream",
     "text": [
      "100%|██████████| 26/26 [00:18<00:00,  1.39it/s]\n"
     ]
    },
    {
     "name": "stdout",
     "output_type": "stream",
     "text": [
      "EPOCH: 4, Loss: 0.2372274261713028\n"
     ]
    },
    {
     "name": "stderr",
     "output_type": "stream",
     "text": [
      "100%|██████████| 26/26 [00:18<00:00,  1.40it/s]\n"
     ]
    },
    {
     "name": "stdout",
     "output_type": "stream",
     "text": [
      "EPOCH: 5, Loss: 0.20484134972095489\n"
     ]
    },
    {
     "name": "stderr",
     "output_type": "stream",
     "text": [
      "100%|██████████| 26/26 [00:18<00:00,  1.40it/s]\n"
     ]
    },
    {
     "name": "stdout",
     "output_type": "stream",
     "text": [
      "EPOCH: 6, Loss: 0.1816388899087906\n"
     ]
    },
    {
     "name": "stderr",
     "output_type": "stream",
     "text": [
      "100%|██████████| 26/26 [00:18<00:00,  1.40it/s]\n"
     ]
    },
    {
     "name": "stdout",
     "output_type": "stream",
     "text": [
      "EPOCH: 7, Loss: 0.17736809194087982\n"
     ]
    },
    {
     "name": "stderr",
     "output_type": "stream",
     "text": [
      "100%|██████████| 26/26 [00:18<00:00,  1.39it/s]\n"
     ]
    },
    {
     "name": "stdout",
     "output_type": "stream",
     "text": [
      "EPOCH: 8, Loss: 0.15882803559303282\n"
     ]
    },
    {
     "name": "stderr",
     "output_type": "stream",
     "text": [
      "100%|██████████| 26/26 [00:18<00:00,  1.39it/s]\n"
     ]
    },
    {
     "name": "stdout",
     "output_type": "stream",
     "text": [
      "EPOCH: 9, Loss: 0.1435227471590042\n"
     ]
    },
    {
     "name": "stderr",
     "output_type": "stream",
     "text": [
      "100%|██████████| 26/26 [00:18<00:00,  1.40it/s]\n"
     ]
    },
    {
     "name": "stdout",
     "output_type": "stream",
     "text": [
      "EPOCH: 10, Loss: 0.1363293069601059\n"
     ]
    },
    {
     "name": "stderr",
     "output_type": "stream",
     "text": [
      "100%|██████████| 26/26 [00:18<00:00,  1.40it/s]\n"
     ]
    },
    {
     "name": "stdout",
     "output_type": "stream",
     "text": [
      "EPOCH: 11, Loss: 0.13297866970300676\n"
     ]
    },
    {
     "name": "stderr",
     "output_type": "stream",
     "text": [
      "100%|██████████| 26/26 [00:18<00:00,  1.38it/s]\n"
     ]
    },
    {
     "name": "stdout",
     "output_type": "stream",
     "text": [
      "EPOCH: 12, Loss: 0.12464097052812577\n"
     ]
    },
    {
     "name": "stderr",
     "output_type": "stream",
     "text": [
      "100%|██████████| 26/26 [00:18<00:00,  1.40it/s]\n"
     ]
    },
    {
     "name": "stdout",
     "output_type": "stream",
     "text": [
      "EPOCH: 13, Loss: 0.12512372612953185\n"
     ]
    },
    {
     "name": "stderr",
     "output_type": "stream",
     "text": [
      "100%|██████████| 26/26 [00:18<00:00,  1.39it/s]\n"
     ]
    },
    {
     "name": "stdout",
     "output_type": "stream",
     "text": [
      "EPOCH: 14, Loss: 0.11706839442253113\n"
     ]
    },
    {
     "name": "stderr",
     "output_type": "stream",
     "text": [
      "100%|██████████| 26/26 [00:18<00:00,  1.39it/s]\n"
     ]
    },
    {
     "name": "stdout",
     "output_type": "stream",
     "text": [
      "EPOCH: 15, Loss: 0.11864195227622985\n"
     ]
    },
    {
     "name": "stderr",
     "output_type": "stream",
     "text": [
      "100%|██████████| 26/26 [00:18<00:00,  1.39it/s]\n"
     ]
    },
    {
     "name": "stdout",
     "output_type": "stream",
     "text": [
      "EPOCH: 16, Loss: 0.11524619072675706\n"
     ]
    },
    {
     "name": "stderr",
     "output_type": "stream",
     "text": [
      "100%|██████████| 26/26 [00:18<00:00,  1.41it/s]\n"
     ]
    },
    {
     "name": "stdout",
     "output_type": "stream",
     "text": [
      "EPOCH: 17, Loss: 0.1054125753045082\n"
     ]
    },
    {
     "name": "stderr",
     "output_type": "stream",
     "text": [
      "100%|██████████| 26/26 [00:18<00:00,  1.40it/s]\n"
     ]
    },
    {
     "name": "stdout",
     "output_type": "stream",
     "text": [
      "EPOCH: 18, Loss: 0.1054578647017479\n"
     ]
    },
    {
     "name": "stderr",
     "output_type": "stream",
     "text": [
      "100%|██████████| 26/26 [00:18<00:00,  1.41it/s]\n"
     ]
    },
    {
     "name": "stdout",
     "output_type": "stream",
     "text": [
      "EPOCH: 19, Loss: 0.10105788767337799\n"
     ]
    },
    {
     "name": "stderr",
     "output_type": "stream",
     "text": [
      "100%|██████████| 26/26 [00:18<00:00,  1.40it/s]\n"
     ]
    },
    {
     "name": "stdout",
     "output_type": "stream",
     "text": [
      "EPOCH: 20, Loss: 0.09990334510803223\n"
     ]
    },
    {
     "name": "stderr",
     "output_type": "stream",
     "text": [
      "100%|██████████| 26/26 [00:18<00:00,  1.41it/s]\n"
     ]
    },
    {
     "name": "stdout",
     "output_type": "stream",
     "text": [
      "EPOCH: 21, Loss: 0.09925734549760819\n"
     ]
    },
    {
     "name": "stderr",
     "output_type": "stream",
     "text": [
      "100%|██████████| 26/26 [00:18<00:00,  1.40it/s]\n"
     ]
    },
    {
     "name": "stdout",
     "output_type": "stream",
     "text": [
      "EPOCH: 22, Loss: 0.0965610945224762\n"
     ]
    },
    {
     "name": "stderr",
     "output_type": "stream",
     "text": [
      "100%|██████████| 26/26 [00:18<00:00,  1.40it/s]\n"
     ]
    },
    {
     "name": "stdout",
     "output_type": "stream",
     "text": [
      "EPOCH: 23, Loss: 0.093761745095253\n"
     ]
    },
    {
     "name": "stderr",
     "output_type": "stream",
     "text": [
      "100%|██████████| 26/26 [00:18<00:00,  1.41it/s]\n"
     ]
    },
    {
     "name": "stdout",
     "output_type": "stream",
     "text": [
      "EPOCH: 24, Loss: 0.09253954201936722\n"
     ]
    },
    {
     "name": "stderr",
     "output_type": "stream",
     "text": [
      "100%|██████████| 26/26 [00:18<00:00,  1.40it/s]\n"
     ]
    },
    {
     "name": "stdout",
     "output_type": "stream",
     "text": [
      "EPOCH: 25, Loss: 0.09141683548688889\n"
     ]
    },
    {
     "name": "stderr",
     "output_type": "stream",
     "text": [
      "100%|██████████| 26/26 [00:18<00:00,  1.41it/s]\n"
     ]
    },
    {
     "name": "stdout",
     "output_type": "stream",
     "text": [
      "EPOCH: 26, Loss: 0.08956709355115891\n"
     ]
    },
    {
     "name": "stderr",
     "output_type": "stream",
     "text": [
      "100%|██████████| 26/26 [00:18<00:00,  1.41it/s]\n"
     ]
    },
    {
     "name": "stdout",
     "output_type": "stream",
     "text": [
      "EPOCH: 27, Loss: 0.08894784212112426\n"
     ]
    },
    {
     "name": "stderr",
     "output_type": "stream",
     "text": [
      "100%|██████████| 26/26 [00:18<00:00,  1.39it/s]\n"
     ]
    },
    {
     "name": "stdout",
     "output_type": "stream",
     "text": [
      "EPOCH: 28, Loss: 0.08671022713184356\n"
     ]
    },
    {
     "name": "stderr",
     "output_type": "stream",
     "text": [
      "100%|██████████| 26/26 [00:18<00:00,  1.41it/s]\n"
     ]
    },
    {
     "name": "stdout",
     "output_type": "stream",
     "text": [
      "EPOCH: 29, Loss: 0.08551005721092224\n"
     ]
    },
    {
     "name": "stderr",
     "output_type": "stream",
     "text": [
      "100%|██████████| 26/26 [00:18<00:00,  1.40it/s]\n"
     ]
    },
    {
     "name": "stdout",
     "output_type": "stream",
     "text": [
      "EPOCH: 30, Loss: 0.0855134356021881\n"
     ]
    },
    {
     "name": "stderr",
     "output_type": "stream",
     "text": [
      "100%|██████████| 26/26 [00:18<00:00,  1.38it/s]\n"
     ]
    },
    {
     "name": "stdout",
     "output_type": "stream",
     "text": [
      "EPOCH: 31, Loss: 0.08392524242401123\n"
     ]
    },
    {
     "name": "stderr",
     "output_type": "stream",
     "text": [
      "100%|██████████| 26/26 [00:18<00:00,  1.41it/s]\n"
     ]
    },
    {
     "name": "stdout",
     "output_type": "stream",
     "text": [
      "EPOCH: 32, Loss: 0.08498494535684585\n"
     ]
    },
    {
     "name": "stderr",
     "output_type": "stream",
     "text": [
      "100%|██████████| 26/26 [00:18<00:00,  1.41it/s]\n"
     ]
    },
    {
     "name": "stdout",
     "output_type": "stream",
     "text": [
      "EPOCH: 33, Loss: 0.08364691525697708\n"
     ]
    },
    {
     "name": "stderr",
     "output_type": "stream",
     "text": [
      "100%|██████████| 26/26 [00:18<00:00,  1.40it/s]\n"
     ]
    },
    {
     "name": "stdout",
     "output_type": "stream",
     "text": [
      "EPOCH: 34, Loss: 0.08171544581651688\n"
     ]
    },
    {
     "name": "stderr",
     "output_type": "stream",
     "text": [
      "100%|██████████| 26/26 [00:18<00:00,  1.40it/s]\n"
     ]
    },
    {
     "name": "stdout",
     "output_type": "stream",
     "text": [
      "EPOCH: 35, Loss: 0.07928707301616669\n"
     ]
    },
    {
     "name": "stderr",
     "output_type": "stream",
     "text": [
      "100%|██████████| 26/26 [00:18<00:00,  1.39it/s]\n"
     ]
    },
    {
     "name": "stdout",
     "output_type": "stream",
     "text": [
      "EPOCH: 36, Loss: 0.07805706858634949\n"
     ]
    },
    {
     "name": "stderr",
     "output_type": "stream",
     "text": [
      "100%|██████████| 26/26 [00:18<00:00,  1.41it/s]\n"
     ]
    },
    {
     "name": "stdout",
     "output_type": "stream",
     "text": [
      "EPOCH: 37, Loss: 0.07798041075468064\n"
     ]
    },
    {
     "name": "stderr",
     "output_type": "stream",
     "text": [
      "100%|██████████| 26/26 [00:18<00:00,  1.41it/s]\n"
     ]
    },
    {
     "name": "stdout",
     "output_type": "stream",
     "text": [
      "EPOCH: 38, Loss: 0.07718911543488502\n"
     ]
    },
    {
     "name": "stderr",
     "output_type": "stream",
     "text": [
      "100%|██████████| 26/26 [00:18<00:00,  1.39it/s]\n"
     ]
    },
    {
     "name": "stdout",
     "output_type": "stream",
     "text": [
      "EPOCH: 39, Loss: 0.07607400119304657\n"
     ]
    },
    {
     "name": "stderr",
     "output_type": "stream",
     "text": [
      "100%|██████████| 26/26 [00:18<00:00,  1.41it/s]\n"
     ]
    },
    {
     "name": "stdout",
     "output_type": "stream",
     "text": [
      "EPOCH: 40, Loss: 0.07498943105340004\n"
     ]
    },
    {
     "name": "stderr",
     "output_type": "stream",
     "text": [
      "100%|██████████| 26/26 [00:18<00:00,  1.39it/s]\n"
     ]
    },
    {
     "name": "stdout",
     "output_type": "stream",
     "text": [
      "EPOCH: 41, Loss: 0.07382913947105407\n"
     ]
    },
    {
     "name": "stderr",
     "output_type": "stream",
     "text": [
      "100%|██████████| 26/26 [00:18<00:00,  1.39it/s]\n"
     ]
    },
    {
     "name": "stdout",
     "output_type": "stream",
     "text": [
      "EPOCH: 42, Loss: 0.07379282981157304\n"
     ]
    },
    {
     "name": "stderr",
     "output_type": "stream",
     "text": [
      "100%|██████████| 26/26 [00:18<00:00,  1.38it/s]\n"
     ]
    },
    {
     "name": "stdout",
     "output_type": "stream",
     "text": [
      "EPOCH: 43, Loss: 0.07387586742639542\n"
     ]
    },
    {
     "name": "stderr",
     "output_type": "stream",
     "text": [
      "100%|██████████| 26/26 [00:18<00:00,  1.40it/s]\n"
     ]
    },
    {
     "name": "stdout",
     "output_type": "stream",
     "text": [
      "EPOCH: 44, Loss: 0.07372942045331002\n"
     ]
    },
    {
     "name": "stderr",
     "output_type": "stream",
     "text": [
      "100%|██████████| 26/26 [00:18<00:00,  1.41it/s]\n"
     ]
    },
    {
     "name": "stdout",
     "output_type": "stream",
     "text": [
      "EPOCH: 45, Loss: 0.07220378905534744\n"
     ]
    },
    {
     "name": "stderr",
     "output_type": "stream",
     "text": [
      "100%|██████████| 26/26 [00:18<00:00,  1.41it/s]\n"
     ]
    },
    {
     "name": "stdout",
     "output_type": "stream",
     "text": [
      "EPOCH: 46, Loss: 0.07188806772232055\n"
     ]
    },
    {
     "name": "stderr",
     "output_type": "stream",
     "text": [
      "100%|██████████| 26/26 [00:18<00:00,  1.41it/s]\n"
     ]
    },
    {
     "name": "stdout",
     "output_type": "stream",
     "text": [
      "EPOCH: 47, Loss: 0.07092470794916153\n"
     ]
    },
    {
     "name": "stderr",
     "output_type": "stream",
     "text": [
      "100%|██████████| 26/26 [00:18<00:00,  1.41it/s]\n"
     ]
    },
    {
     "name": "stdout",
     "output_type": "stream",
     "text": [
      "EPOCH: 48, Loss: 0.0698110656440258\n"
     ]
    },
    {
     "name": "stderr",
     "output_type": "stream",
     "text": [
      "100%|██████████| 26/26 [00:18<00:00,  1.40it/s]\n"
     ]
    },
    {
     "name": "stdout",
     "output_type": "stream",
     "text": [
      "EPOCH: 49, Loss: 0.06852250680327415\n"
     ]
    },
    {
     "name": "stderr",
     "output_type": "stream",
     "text": [
      "100%|██████████| 26/26 [00:18<00:00,  1.41it/s]\n"
     ]
    },
    {
     "name": "stdout",
     "output_type": "stream",
     "text": [
      "EPOCH: 50, Loss: 0.06777968108654023\n"
     ]
    },
    {
     "name": "stderr",
     "output_type": "stream",
     "text": [
      "100%|██████████| 26/26 [00:18<00:00,  1.40it/s]\n"
     ]
    },
    {
     "name": "stdout",
     "output_type": "stream",
     "text": [
      "EPOCH: 51, Loss: 0.06689275085926055\n"
     ]
    },
    {
     "name": "stderr",
     "output_type": "stream",
     "text": [
      "100%|██████████| 26/26 [00:18<00:00,  1.40it/s]\n"
     ]
    },
    {
     "name": "stdout",
     "output_type": "stream",
     "text": [
      "EPOCH: 52, Loss: 0.06649698510766029\n"
     ]
    },
    {
     "name": "stderr",
     "output_type": "stream",
     "text": [
      "100%|██████████| 26/26 [00:18<00:00,  1.41it/s]\n"
     ]
    },
    {
     "name": "stdout",
     "output_type": "stream",
     "text": [
      "EPOCH: 53, Loss: 0.06740228787064552\n"
     ]
    },
    {
     "name": "stderr",
     "output_type": "stream",
     "text": [
      "100%|██████████| 26/26 [00:18<00:00,  1.41it/s]\n"
     ]
    },
    {
     "name": "stdout",
     "output_type": "stream",
     "text": [
      "EPOCH: 54, Loss: 0.06584830567240715\n"
     ]
    },
    {
     "name": "stderr",
     "output_type": "stream",
     "text": [
      "100%|██████████| 26/26 [00:18<00:00,  1.40it/s]\n"
     ]
    },
    {
     "name": "stdout",
     "output_type": "stream",
     "text": [
      "EPOCH: 55, Loss: 0.06702861741185188\n"
     ]
    },
    {
     "name": "stderr",
     "output_type": "stream",
     "text": [
      "100%|██████████| 26/26 [00:18<00:00,  1.40it/s]\n"
     ]
    },
    {
     "name": "stdout",
     "output_type": "stream",
     "text": [
      "EPOCH: 56, Loss: 0.06448162525892258\n"
     ]
    },
    {
     "name": "stderr",
     "output_type": "stream",
     "text": [
      "100%|██████████| 26/26 [00:18<00:00,  1.39it/s]\n"
     ]
    },
    {
     "name": "stdout",
     "output_type": "stream",
     "text": [
      "EPOCH: 57, Loss: 0.06416858807206154\n"
     ]
    },
    {
     "name": "stderr",
     "output_type": "stream",
     "text": [
      "100%|██████████| 26/26 [00:18<00:00,  1.40it/s]\n"
     ]
    },
    {
     "name": "stdout",
     "output_type": "stream",
     "text": [
      "EPOCH: 58, Loss: 0.06271236464381218\n"
     ]
    },
    {
     "name": "stderr",
     "output_type": "stream",
     "text": [
      "100%|██████████| 26/26 [00:18<00:00,  1.41it/s]\n"
     ]
    },
    {
     "name": "stdout",
     "output_type": "stream",
     "text": [
      "EPOCH: 59, Loss: 0.06253743425011635\n"
     ]
    },
    {
     "name": "stderr",
     "output_type": "stream",
     "text": [
      "100%|██████████| 26/26 [00:18<00:00,  1.42it/s]\n"
     ]
    },
    {
     "name": "stdout",
     "output_type": "stream",
     "text": [
      "EPOCH: 60, Loss: 0.06109370082616806\n"
     ]
    },
    {
     "name": "stderr",
     "output_type": "stream",
     "text": [
      "100%|██████████| 26/26 [00:18<00:00,  1.40it/s]\n"
     ]
    },
    {
     "name": "stdout",
     "output_type": "stream",
     "text": [
      "EPOCH: 61, Loss: 0.06099595442414284\n"
     ]
    },
    {
     "name": "stderr",
     "output_type": "stream",
     "text": [
      "100%|██████████| 26/26 [00:18<00:00,  1.41it/s]\n"
     ]
    },
    {
     "name": "stdout",
     "output_type": "stream",
     "text": [
      "EPOCH: 62, Loss: 0.06069350630044937\n"
     ]
    },
    {
     "name": "stderr",
     "output_type": "stream",
     "text": [
      "100%|██████████| 26/26 [00:18<00:00,  1.40it/s]\n"
     ]
    },
    {
     "name": "stdout",
     "output_type": "stream",
     "text": [
      "EPOCH: 63, Loss: 0.06047021359205246\n"
     ]
    },
    {
     "name": "stderr",
     "output_type": "stream",
     "text": [
      "100%|██████████| 26/26 [00:18<00:00,  1.39it/s]\n"
     ]
    },
    {
     "name": "stdout",
     "output_type": "stream",
     "text": [
      "EPOCH: 64, Loss: 0.05985973671078682\n"
     ]
    },
    {
     "name": "stderr",
     "output_type": "stream",
     "text": [
      "100%|██████████| 26/26 [00:18<00:00,  1.40it/s]\n"
     ]
    },
    {
     "name": "stdout",
     "output_type": "stream",
     "text": [
      "EPOCH: 65, Loss: 0.06009256139397621\n"
     ]
    },
    {
     "name": "stderr",
     "output_type": "stream",
     "text": [
      "100%|██████████| 26/26 [00:18<00:00,  1.40it/s]\n"
     ]
    },
    {
     "name": "stdout",
     "output_type": "stream",
     "text": [
      "EPOCH: 66, Loss: 0.05864493533968926\n"
     ]
    },
    {
     "name": "stderr",
     "output_type": "stream",
     "text": [
      "100%|██████████| 26/26 [00:18<00:00,  1.40it/s]\n"
     ]
    },
    {
     "name": "stdout",
     "output_type": "stream",
     "text": [
      "EPOCH: 67, Loss: 0.05740931138396263\n"
     ]
    },
    {
     "name": "stderr",
     "output_type": "stream",
     "text": [
      "100%|██████████| 26/26 [00:18<00:00,  1.40it/s]\n"
     ]
    },
    {
     "name": "stdout",
     "output_type": "stream",
     "text": [
      "EPOCH: 68, Loss: 0.05743463158607483\n"
     ]
    },
    {
     "name": "stderr",
     "output_type": "stream",
     "text": [
      "100%|██████████| 26/26 [00:18<00:00,  1.39it/s]\n"
     ]
    },
    {
     "name": "stdout",
     "output_type": "stream",
     "text": [
      "EPOCH: 69, Loss: 0.05870814263820648\n"
     ]
    },
    {
     "name": "stderr",
     "output_type": "stream",
     "text": [
      "100%|██████████| 26/26 [00:18<00:00,  1.41it/s]\n"
     ]
    },
    {
     "name": "stdout",
     "output_type": "stream",
     "text": [
      "EPOCH: 70, Loss: 0.05706149414181709\n"
     ]
    },
    {
     "name": "stderr",
     "output_type": "stream",
     "text": [
      "100%|██████████| 26/26 [00:18<00:00,  1.39it/s]\n"
     ]
    },
    {
     "name": "stdout",
     "output_type": "stream",
     "text": [
      "EPOCH: 71, Loss: 0.05639492020010948\n"
     ]
    },
    {
     "name": "stderr",
     "output_type": "stream",
     "text": [
      "100%|██████████| 26/26 [00:18<00:00,  1.40it/s]\n"
     ]
    },
    {
     "name": "stdout",
     "output_type": "stream",
     "text": [
      "EPOCH: 72, Loss: 0.05491385132074356\n"
     ]
    },
    {
     "name": "stderr",
     "output_type": "stream",
     "text": [
      "100%|██████████| 26/26 [00:18<00:00,  1.41it/s]\n"
     ]
    },
    {
     "name": "stdout",
     "output_type": "stream",
     "text": [
      "EPOCH: 73, Loss: 0.05682671889662742\n"
     ]
    },
    {
     "name": "stderr",
     "output_type": "stream",
     "text": [
      "100%|██████████| 26/26 [00:18<00:00,  1.40it/s]\n"
     ]
    },
    {
     "name": "stdout",
     "output_type": "stream",
     "text": [
      "EPOCH: 74, Loss: 0.05500326305627823\n"
     ]
    },
    {
     "name": "stderr",
     "output_type": "stream",
     "text": [
      "100%|██████████| 26/26 [00:18<00:00,  1.38it/s]\n"
     ]
    },
    {
     "name": "stdout",
     "output_type": "stream",
     "text": [
      "EPOCH: 75, Loss: 0.054342199712991715\n"
     ]
    },
    {
     "name": "stderr",
     "output_type": "stream",
     "text": [
      "100%|██████████| 26/26 [00:18<00:00,  1.39it/s]\n"
     ]
    },
    {
     "name": "stdout",
     "output_type": "stream",
     "text": [
      "EPOCH: 76, Loss: 0.05334711790084839\n"
     ]
    },
    {
     "name": "stderr",
     "output_type": "stream",
     "text": [
      "100%|██████████| 26/26 [00:18<00:00,  1.39it/s]\n"
     ]
    },
    {
     "name": "stdout",
     "output_type": "stream",
     "text": [
      "EPOCH: 77, Loss: 0.05344289109110832\n"
     ]
    },
    {
     "name": "stderr",
     "output_type": "stream",
     "text": [
      "100%|██████████| 26/26 [00:18<00:00,  1.38it/s]\n"
     ]
    },
    {
     "name": "stdout",
     "output_type": "stream",
     "text": [
      "EPOCH: 78, Loss: 0.052643320858478546\n"
     ]
    },
    {
     "name": "stderr",
     "output_type": "stream",
     "text": [
      "100%|██████████| 26/26 [00:18<00:00,  1.40it/s]\n"
     ]
    },
    {
     "name": "stdout",
     "output_type": "stream",
     "text": [
      "EPOCH: 79, Loss: 0.052946811467409136\n"
     ]
    },
    {
     "name": "stderr",
     "output_type": "stream",
     "text": [
      "100%|██████████| 26/26 [00:18<00:00,  1.40it/s]\n"
     ]
    },
    {
     "name": "stdout",
     "output_type": "stream",
     "text": [
      "EPOCH: 80, Loss: 0.052699419409036635\n"
     ]
    },
    {
     "name": "stderr",
     "output_type": "stream",
     "text": [
      "100%|██████████| 26/26 [00:18<00:00,  1.42it/s]\n"
     ]
    },
    {
     "name": "stdout",
     "output_type": "stream",
     "text": [
      "EPOCH: 81, Loss: 0.05311871260404587\n"
     ]
    },
    {
     "name": "stderr",
     "output_type": "stream",
     "text": [
      "100%|██████████| 26/26 [00:18<00:00,  1.40it/s]\n"
     ]
    },
    {
     "name": "stdout",
     "output_type": "stream",
     "text": [
      "EPOCH: 82, Loss: 0.05183408141136169\n"
     ]
    },
    {
     "name": "stderr",
     "output_type": "stream",
     "text": [
      "100%|██████████| 26/26 [00:18<00:00,  1.39it/s]\n"
     ]
    },
    {
     "name": "stdout",
     "output_type": "stream",
     "text": [
      "EPOCH: 83, Loss: 0.050616993606090545\n"
     ]
    },
    {
     "name": "stderr",
     "output_type": "stream",
     "text": [
      "100%|██████████| 26/26 [00:18<00:00,  1.40it/s]\n"
     ]
    },
    {
     "name": "stdout",
     "output_type": "stream",
     "text": [
      "EPOCH: 84, Loss: 0.05062984794378281\n"
     ]
    },
    {
     "name": "stderr",
     "output_type": "stream",
     "text": [
      "100%|██████████| 26/26 [00:18<00:00,  1.39it/s]\n"
     ]
    },
    {
     "name": "stdout",
     "output_type": "stream",
     "text": [
      "EPOCH: 85, Loss: 0.049824416637420654\n"
     ]
    },
    {
     "name": "stderr",
     "output_type": "stream",
     "text": [
      "100%|██████████| 26/26 [00:18<00:00,  1.40it/s]\n"
     ]
    },
    {
     "name": "stdout",
     "output_type": "stream",
     "text": [
      "EPOCH: 86, Loss: 0.05012340158224106\n"
     ]
    },
    {
     "name": "stderr",
     "output_type": "stream",
     "text": [
      "100%|██████████| 26/26 [00:18<00:00,  1.40it/s]\n"
     ]
    },
    {
     "name": "stdout",
     "output_type": "stream",
     "text": [
      "EPOCH: 87, Loss: 0.05024861931800842\n"
     ]
    },
    {
     "name": "stderr",
     "output_type": "stream",
     "text": [
      "100%|██████████| 26/26 [00:19<00:00,  1.36it/s]\n"
     ]
    },
    {
     "name": "stdout",
     "output_type": "stream",
     "text": [
      "EPOCH: 88, Loss: 0.05040452212095261\n"
     ]
    },
    {
     "name": "stderr",
     "output_type": "stream",
     "text": [
      "100%|██████████| 26/26 [00:18<00:00,  1.39it/s]\n"
     ]
    },
    {
     "name": "stdout",
     "output_type": "stream",
     "text": [
      "EPOCH: 89, Loss: 0.04824710413813591\n"
     ]
    },
    {
     "name": "stderr",
     "output_type": "stream",
     "text": [
      "100%|██████████| 26/26 [00:18<00:00,  1.40it/s]\n"
     ]
    },
    {
     "name": "stdout",
     "output_type": "stream",
     "text": [
      "EPOCH: 90, Loss: 0.04862826183438301\n"
     ]
    },
    {
     "name": "stderr",
     "output_type": "stream",
     "text": [
      "100%|██████████| 26/26 [00:18<00:00,  1.41it/s]\n"
     ]
    },
    {
     "name": "stdout",
     "output_type": "stream",
     "text": [
      "EPOCH: 91, Loss: 0.04877155110239983\n"
     ]
    },
    {
     "name": "stderr",
     "output_type": "stream",
     "text": [
      "100%|██████████| 26/26 [00:18<00:00,  1.39it/s]\n"
     ]
    },
    {
     "name": "stdout",
     "output_type": "stream",
     "text": [
      "EPOCH: 92, Loss: 0.04767166420817375\n"
     ]
    },
    {
     "name": "stderr",
     "output_type": "stream",
     "text": [
      "100%|██████████| 26/26 [00:18<00:00,  1.39it/s]\n"
     ]
    },
    {
     "name": "stdout",
     "output_type": "stream",
     "text": [
      "EPOCH: 93, Loss: 0.047116431444883346\n"
     ]
    },
    {
     "name": "stderr",
     "output_type": "stream",
     "text": [
      "100%|██████████| 26/26 [00:18<00:00,  1.42it/s]\n"
     ]
    },
    {
     "name": "stdout",
     "output_type": "stream",
     "text": [
      "EPOCH: 94, Loss: 0.04640117555856705\n"
     ]
    },
    {
     "name": "stderr",
     "output_type": "stream",
     "text": [
      "100%|██████████| 26/26 [00:18<00:00,  1.41it/s]\n"
     ]
    },
    {
     "name": "stdout",
     "output_type": "stream",
     "text": [
      "EPOCH: 95, Loss: 0.04638436660170555\n"
     ]
    },
    {
     "name": "stderr",
     "output_type": "stream",
     "text": [
      "100%|██████████| 26/26 [00:18<00:00,  1.37it/s]\n"
     ]
    },
    {
     "name": "stdout",
     "output_type": "stream",
     "text": [
      "EPOCH: 96, Loss: 0.046584873348474505\n"
     ]
    },
    {
     "name": "stderr",
     "output_type": "stream",
     "text": [
      "100%|██████████| 26/26 [00:18<00:00,  1.39it/s]\n"
     ]
    },
    {
     "name": "stdout",
     "output_type": "stream",
     "text": [
      "EPOCH: 97, Loss: 0.04598374247550965\n"
     ]
    },
    {
     "name": "stderr",
     "output_type": "stream",
     "text": [
      "100%|██████████| 26/26 [00:18<00:00,  1.42it/s]\n"
     ]
    },
    {
     "name": "stdout",
     "output_type": "stream",
     "text": [
      "EPOCH: 98, Loss: 0.04592329144477844\n"
     ]
    },
    {
     "name": "stderr",
     "output_type": "stream",
     "text": [
      "100%|██████████| 26/26 [00:18<00:00,  1.39it/s]\n"
     ]
    },
    {
     "name": "stdout",
     "output_type": "stream",
     "text": [
      "EPOCH: 99, Loss: 0.045940859019756315\n"
     ]
    },
    {
     "name": "stderr",
     "output_type": "stream",
     "text": [
      "100%|██████████| 26/26 [00:18<00:00,  1.39it/s]\n"
     ]
    },
    {
     "name": "stdout",
     "output_type": "stream",
     "text": [
      "EPOCH: 100, Loss: 0.04480045348405838\n"
     ]
    },
    {
     "name": "stderr",
     "output_type": "stream",
     "text": [
      "100%|██████████| 26/26 [00:18<00:00,  1.41it/s]\n"
     ]
    },
    {
     "name": "stdout",
     "output_type": "stream",
     "text": [
      "EPOCH: 101, Loss: 0.045299661308526994\n"
     ]
    },
    {
     "name": "stderr",
     "output_type": "stream",
     "text": [
      "100%|██████████| 26/26 [00:18<00:00,  1.39it/s]\n"
     ]
    },
    {
     "name": "stdout",
     "output_type": "stream",
     "text": [
      "EPOCH: 102, Loss: 0.0443544103205204\n"
     ]
    },
    {
     "name": "stderr",
     "output_type": "stream",
     "text": [
      "100%|██████████| 26/26 [00:18<00:00,  1.41it/s]\n"
     ]
    },
    {
     "name": "stdout",
     "output_type": "stream",
     "text": [
      "EPOCH: 103, Loss: 0.04369604930281639\n"
     ]
    },
    {
     "name": "stderr",
     "output_type": "stream",
     "text": [
      "100%|██████████| 26/26 [00:18<00:00,  1.39it/s]\n"
     ]
    },
    {
     "name": "stdout",
     "output_type": "stream",
     "text": [
      "EPOCH: 104, Loss: 0.04367330476641655\n"
     ]
    },
    {
     "name": "stderr",
     "output_type": "stream",
     "text": [
      "100%|██████████| 26/26 [00:18<00:00,  1.41it/s]\n"
     ]
    },
    {
     "name": "stdout",
     "output_type": "stream",
     "text": [
      "EPOCH: 105, Loss: 0.043715383112430575\n"
     ]
    },
    {
     "name": "stderr",
     "output_type": "stream",
     "text": [
      "100%|██████████| 26/26 [00:18<00:00,  1.41it/s]\n"
     ]
    },
    {
     "name": "stdout",
     "output_type": "stream",
     "text": [
      "EPOCH: 106, Loss: 0.04351015895605087\n"
     ]
    },
    {
     "name": "stderr",
     "output_type": "stream",
     "text": [
      "100%|██████████| 26/26 [00:18<00:00,  1.40it/s]\n"
     ]
    },
    {
     "name": "stdout",
     "output_type": "stream",
     "text": [
      "EPOCH: 107, Loss: 0.043365880250930786\n"
     ]
    },
    {
     "name": "stderr",
     "output_type": "stream",
     "text": [
      "100%|██████████| 26/26 [00:18<00:00,  1.41it/s]\n"
     ]
    },
    {
     "name": "stdout",
     "output_type": "stream",
     "text": [
      "EPOCH: 108, Loss: 0.042440676391124726\n"
     ]
    },
    {
     "name": "stderr",
     "output_type": "stream",
     "text": [
      "100%|██████████| 26/26 [00:18<00:00,  1.40it/s]\n"
     ]
    },
    {
     "name": "stdout",
     "output_type": "stream",
     "text": [
      "EPOCH: 109, Loss: 0.04154353052377701\n"
     ]
    },
    {
     "name": "stderr",
     "output_type": "stream",
     "text": [
      "100%|██████████| 26/26 [00:18<00:00,  1.41it/s]\n"
     ]
    },
    {
     "name": "stdout",
     "output_type": "stream",
     "text": [
      "EPOCH: 110, Loss: 0.04115885928273201\n"
     ]
    },
    {
     "name": "stderr",
     "output_type": "stream",
     "text": [
      "100%|██████████| 26/26 [00:18<00:00,  1.40it/s]\n"
     ]
    },
    {
     "name": "stdout",
     "output_type": "stream",
     "text": [
      "EPOCH: 111, Loss: 0.04132768839597702\n"
     ]
    },
    {
     "name": "stderr",
     "output_type": "stream",
     "text": [
      "100%|██████████| 26/26 [00:18<00:00,  1.41it/s]\n"
     ]
    },
    {
     "name": "stdout",
     "output_type": "stream",
     "text": [
      "EPOCH: 112, Loss: 0.04217263862490654\n"
     ]
    },
    {
     "name": "stderr",
     "output_type": "stream",
     "text": [
      "100%|██████████| 26/26 [00:18<00:00,  1.40it/s]\n"
     ]
    },
    {
     "name": "stdout",
     "output_type": "stream",
     "text": [
      "EPOCH: 113, Loss: 0.040767474472522734\n"
     ]
    },
    {
     "name": "stderr",
     "output_type": "stream",
     "text": [
      "100%|██████████| 26/26 [00:18<00:00,  1.40it/s]\n"
     ]
    },
    {
     "name": "stdout",
     "output_type": "stream",
     "text": [
      "EPOCH: 114, Loss: 0.04124796152114868\n"
     ]
    },
    {
     "name": "stderr",
     "output_type": "stream",
     "text": [
      "100%|██████████| 26/26 [00:19<00:00,  1.35it/s]\n"
     ]
    },
    {
     "name": "stdout",
     "output_type": "stream",
     "text": [
      "EPOCH: 115, Loss: 0.040736926048994065\n"
     ]
    },
    {
     "name": "stderr",
     "output_type": "stream",
     "text": [
      "100%|██████████| 26/26 [00:18<00:00,  1.39it/s]\n"
     ]
    },
    {
     "name": "stdout",
     "output_type": "stream",
     "text": [
      "EPOCH: 116, Loss: 0.03991082802414894\n"
     ]
    },
    {
     "name": "stderr",
     "output_type": "stream",
     "text": [
      "100%|██████████| 26/26 [00:18<00:00,  1.40it/s]\n"
     ]
    },
    {
     "name": "stdout",
     "output_type": "stream",
     "text": [
      "EPOCH: 117, Loss: 0.03973242074251175\n"
     ]
    },
    {
     "name": "stderr",
     "output_type": "stream",
     "text": [
      "100%|██████████| 26/26 [00:18<00:00,  1.41it/s]\n"
     ]
    },
    {
     "name": "stdout",
     "output_type": "stream",
     "text": [
      "EPOCH: 118, Loss: 0.03915228620171547\n"
     ]
    },
    {
     "name": "stderr",
     "output_type": "stream",
     "text": [
      "100%|██████████| 26/26 [00:18<00:00,  1.42it/s]\n"
     ]
    },
    {
     "name": "stdout",
     "output_type": "stream",
     "text": [
      "EPOCH: 119, Loss: 0.038910492956638336\n"
     ]
    },
    {
     "name": "stderr",
     "output_type": "stream",
     "text": [
      "100%|██████████| 26/26 [00:18<00:00,  1.38it/s]\n"
     ]
    },
    {
     "name": "stdout",
     "output_type": "stream",
     "text": [
      "EPOCH: 120, Loss: 0.040025719255208966\n"
     ]
    },
    {
     "name": "stderr",
     "output_type": "stream",
     "text": [
      "100%|██████████| 26/26 [00:18<00:00,  1.40it/s]\n"
     ]
    },
    {
     "name": "stdout",
     "output_type": "stream",
     "text": [
      "EPOCH: 121, Loss: 0.03856808125972748\n"
     ]
    },
    {
     "name": "stderr",
     "output_type": "stream",
     "text": [
      "100%|██████████| 26/26 [00:18<00:00,  1.40it/s]\n"
     ]
    },
    {
     "name": "stdout",
     "output_type": "stream",
     "text": [
      "EPOCH: 122, Loss: 0.038725936710834505\n"
     ]
    },
    {
     "name": "stderr",
     "output_type": "stream",
     "text": [
      "100%|██████████| 26/26 [00:18<00:00,  1.39it/s]\n"
     ]
    },
    {
     "name": "stdout",
     "output_type": "stream",
     "text": [
      "EPOCH: 123, Loss: 0.038114678561687466\n"
     ]
    },
    {
     "name": "stderr",
     "output_type": "stream",
     "text": [
      "100%|██████████| 26/26 [00:18<00:00,  1.40it/s]\n"
     ]
    },
    {
     "name": "stdout",
     "output_type": "stream",
     "text": [
      "EPOCH: 124, Loss: 0.03789006486535072\n"
     ]
    },
    {
     "name": "stderr",
     "output_type": "stream",
     "text": [
      "100%|██████████| 26/26 [00:18<00:00,  1.40it/s]\n"
     ]
    },
    {
     "name": "stdout",
     "output_type": "stream",
     "text": [
      "EPOCH: 125, Loss: 0.037567695081233976\n"
     ]
    },
    {
     "name": "stderr",
     "output_type": "stream",
     "text": [
      "100%|██████████| 26/26 [00:18<00:00,  1.41it/s]\n"
     ]
    },
    {
     "name": "stdout",
     "output_type": "stream",
     "text": [
      "EPOCH: 126, Loss: 0.0373049508035183\n"
     ]
    },
    {
     "name": "stderr",
     "output_type": "stream",
     "text": [
      "100%|██████████| 26/26 [00:18<00:00,  1.40it/s]\n"
     ]
    },
    {
     "name": "stdout",
     "output_type": "stream",
     "text": [
      "EPOCH: 127, Loss: 0.037470229864120484\n"
     ]
    },
    {
     "name": "stderr",
     "output_type": "stream",
     "text": [
      "100%|██████████| 26/26 [00:18<00:00,  1.41it/s]\n"
     ]
    },
    {
     "name": "stdout",
     "output_type": "stream",
     "text": [
      "EPOCH: 128, Loss: 0.036777691096067426\n"
     ]
    },
    {
     "name": "stderr",
     "output_type": "stream",
     "text": [
      "100%|██████████| 26/26 [00:18<00:00,  1.40it/s]\n"
     ]
    },
    {
     "name": "stdout",
     "output_type": "stream",
     "text": [
      "EPOCH: 129, Loss: 0.03662098705768585\n"
     ]
    },
    {
     "name": "stderr",
     "output_type": "stream",
     "text": [
      "100%|██████████| 26/26 [00:18<00:00,  1.40it/s]\n"
     ]
    },
    {
     "name": "stdout",
     "output_type": "stream",
     "text": [
      "EPOCH: 130, Loss: 0.03594193071126938\n"
     ]
    },
    {
     "name": "stderr",
     "output_type": "stream",
     "text": [
      "100%|██████████| 26/26 [00:18<00:00,  1.40it/s]\n"
     ]
    },
    {
     "name": "stdout",
     "output_type": "stream",
     "text": [
      "EPOCH: 131, Loss: 0.036538026183843615\n"
     ]
    },
    {
     "name": "stderr",
     "output_type": "stream",
     "text": [
      "100%|██████████| 26/26 [00:18<00:00,  1.41it/s]\n"
     ]
    },
    {
     "name": "stdout",
     "output_type": "stream",
     "text": [
      "EPOCH: 132, Loss: 0.036196867674589156\n"
     ]
    },
    {
     "name": "stderr",
     "output_type": "stream",
     "text": [
      "100%|██████████| 26/26 [00:18<00:00,  1.39it/s]\n"
     ]
    },
    {
     "name": "stdout",
     "output_type": "stream",
     "text": [
      "EPOCH: 133, Loss: 0.036294878348708155\n"
     ]
    },
    {
     "name": "stderr",
     "output_type": "stream",
     "text": [
      "100%|██████████| 26/26 [00:18<00:00,  1.37it/s]\n"
     ]
    },
    {
     "name": "stdout",
     "output_type": "stream",
     "text": [
      "EPOCH: 134, Loss: 0.03518134288489819\n"
     ]
    },
    {
     "name": "stderr",
     "output_type": "stream",
     "text": [
      "100%|██████████| 26/26 [00:18<00:00,  1.40it/s]\n"
     ]
    },
    {
     "name": "stdout",
     "output_type": "stream",
     "text": [
      "EPOCH: 135, Loss: 0.03580384589731693\n"
     ]
    },
    {
     "name": "stderr",
     "output_type": "stream",
     "text": [
      "100%|██████████| 26/26 [00:18<00:00,  1.39it/s]\n"
     ]
    },
    {
     "name": "stdout",
     "output_type": "stream",
     "text": [
      "EPOCH: 136, Loss: 0.03501189611852169\n"
     ]
    },
    {
     "name": "stderr",
     "output_type": "stream",
     "text": [
      "100%|██████████| 26/26 [00:18<00:00,  1.41it/s]\n"
     ]
    },
    {
     "name": "stdout",
     "output_type": "stream",
     "text": [
      "EPOCH: 137, Loss: 0.03479230374097824\n"
     ]
    },
    {
     "name": "stderr",
     "output_type": "stream",
     "text": [
      "100%|██████████| 26/26 [00:18<00:00,  1.40it/s]\n"
     ]
    },
    {
     "name": "stdout",
     "output_type": "stream",
     "text": [
      "EPOCH: 138, Loss: 0.03441163912415504\n"
     ]
    },
    {
     "name": "stderr",
     "output_type": "stream",
     "text": [
      "100%|██████████| 26/26 [00:18<00:00,  1.39it/s]\n"
     ]
    },
    {
     "name": "stdout",
     "output_type": "stream",
     "text": [
      "EPOCH: 139, Loss: 0.03424658544361591\n"
     ]
    },
    {
     "name": "stderr",
     "output_type": "stream",
     "text": [
      "100%|██████████| 26/26 [00:18<00:00,  1.41it/s]\n"
     ]
    },
    {
     "name": "stdout",
     "output_type": "stream",
     "text": [
      "EPOCH: 140, Loss: 0.03394055612385273\n"
     ]
    },
    {
     "name": "stderr",
     "output_type": "stream",
     "text": [
      "100%|██████████| 26/26 [00:18<00:00,  1.39it/s]\n"
     ]
    },
    {
     "name": "stdout",
     "output_type": "stream",
     "text": [
      "EPOCH: 141, Loss: 0.03438736118376255\n"
     ]
    },
    {
     "name": "stderr",
     "output_type": "stream",
     "text": [
      "100%|██████████| 26/26 [00:18<00:00,  1.40it/s]\n"
     ]
    },
    {
     "name": "stdout",
     "output_type": "stream",
     "text": [
      "EPOCH: 142, Loss: 0.03320977210998535\n"
     ]
    },
    {
     "name": "stderr",
     "output_type": "stream",
     "text": [
      "100%|██████████| 26/26 [00:18<00:00,  1.41it/s]\n"
     ]
    },
    {
     "name": "stdout",
     "output_type": "stream",
     "text": [
      "EPOCH: 143, Loss: 0.032868253588676455\n"
     ]
    },
    {
     "name": "stderr",
     "output_type": "stream",
     "text": [
      "100%|██████████| 26/26 [00:18<00:00,  1.38it/s]\n"
     ]
    },
    {
     "name": "stdout",
     "output_type": "stream",
     "text": [
      "EPOCH: 144, Loss: 0.032987056374549864\n"
     ]
    },
    {
     "name": "stderr",
     "output_type": "stream",
     "text": [
      "100%|██████████| 26/26 [00:18<00:00,  1.39it/s]\n"
     ]
    },
    {
     "name": "stdout",
     "output_type": "stream",
     "text": [
      "EPOCH: 145, Loss: 0.03305929347872734\n"
     ]
    },
    {
     "name": "stderr",
     "output_type": "stream",
     "text": [
      "100%|██████████| 26/26 [00:18<00:00,  1.40it/s]\n"
     ]
    },
    {
     "name": "stdout",
     "output_type": "stream",
     "text": [
      "EPOCH: 146, Loss: 0.03267699807882309\n"
     ]
    },
    {
     "name": "stderr",
     "output_type": "stream",
     "text": [
      "100%|██████████| 26/26 [00:18<00:00,  1.40it/s]\n"
     ]
    },
    {
     "name": "stdout",
     "output_type": "stream",
     "text": [
      "EPOCH: 147, Loss: 0.03227325916290283\n"
     ]
    },
    {
     "name": "stderr",
     "output_type": "stream",
     "text": [
      "100%|██████████| 26/26 [00:18<00:00,  1.39it/s]\n"
     ]
    },
    {
     "name": "stdout",
     "output_type": "stream",
     "text": [
      "EPOCH: 148, Loss: 0.031764351651072505\n"
     ]
    },
    {
     "name": "stderr",
     "output_type": "stream",
     "text": [
      "100%|██████████| 26/26 [00:18<00:00,  1.40it/s]\n"
     ]
    },
    {
     "name": "stdout",
     "output_type": "stream",
     "text": [
      "EPOCH: 149, Loss: 0.03222500756382942\n"
     ]
    },
    {
     "name": "stderr",
     "output_type": "stream",
     "text": [
      "100%|██████████| 26/26 [00:18<00:00,  1.40it/s]\n"
     ]
    },
    {
     "name": "stdout",
     "output_type": "stream",
     "text": [
      "EPOCH: 150, Loss: 0.032084800601005554\n"
     ]
    },
    {
     "name": "stderr",
     "output_type": "stream",
     "text": [
      "100%|██████████| 26/26 [00:18<00:00,  1.40it/s]\n"
     ]
    },
    {
     "name": "stdout",
     "output_type": "stream",
     "text": [
      "EPOCH: 151, Loss: 0.03332411631941795\n"
     ]
    },
    {
     "name": "stderr",
     "output_type": "stream",
     "text": [
      "100%|██████████| 26/26 [00:18<00:00,  1.40it/s]\n"
     ]
    },
    {
     "name": "stdout",
     "output_type": "stream",
     "text": [
      "EPOCH: 152, Loss: 0.03238711290061474\n"
     ]
    },
    {
     "name": "stderr",
     "output_type": "stream",
     "text": [
      "100%|██████████| 26/26 [00:18<00:00,  1.40it/s]\n"
     ]
    },
    {
     "name": "stdout",
     "output_type": "stream",
     "text": [
      "EPOCH: 153, Loss: 0.03218534402549267\n"
     ]
    },
    {
     "name": "stderr",
     "output_type": "stream",
     "text": [
      "100%|██████████| 26/26 [00:19<00:00,  1.37it/s]\n"
     ]
    },
    {
     "name": "stdout",
     "output_type": "stream",
     "text": [
      "EPOCH: 154, Loss: 0.03114560343325138\n"
     ]
    },
    {
     "name": "stderr",
     "output_type": "stream",
     "text": [
      "100%|██████████| 26/26 [00:18<00:00,  1.40it/s]\n"
     ]
    },
    {
     "name": "stdout",
     "output_type": "stream",
     "text": [
      "EPOCH: 155, Loss: 0.03093597888946533\n"
     ]
    },
    {
     "name": "stderr",
     "output_type": "stream",
     "text": [
      "100%|██████████| 26/26 [00:18<00:00,  1.39it/s]\n"
     ]
    },
    {
     "name": "stdout",
     "output_type": "stream",
     "text": [
      "EPOCH: 156, Loss: 0.03045054592192173\n"
     ]
    },
    {
     "name": "stderr",
     "output_type": "stream",
     "text": [
      "100%|██████████| 26/26 [00:18<00:00,  1.40it/s]\n"
     ]
    },
    {
     "name": "stdout",
     "output_type": "stream",
     "text": [
      "EPOCH: 157, Loss: 0.03044910542666912\n"
     ]
    },
    {
     "name": "stderr",
     "output_type": "stream",
     "text": [
      "100%|██████████| 26/26 [00:18<00:00,  1.38it/s]\n"
     ]
    },
    {
     "name": "stdout",
     "output_type": "stream",
     "text": [
      "EPOCH: 158, Loss: 0.030447736382484436\n"
     ]
    },
    {
     "name": "stderr",
     "output_type": "stream",
     "text": [
      "100%|██████████| 26/26 [00:18<00:00,  1.39it/s]\n"
     ]
    },
    {
     "name": "stdout",
     "output_type": "stream",
     "text": [
      "EPOCH: 159, Loss: 0.030054406225681306\n"
     ]
    },
    {
     "name": "stderr",
     "output_type": "stream",
     "text": [
      "100%|██████████| 26/26 [00:18<00:00,  1.40it/s]\n"
     ]
    },
    {
     "name": "stdout",
     "output_type": "stream",
     "text": [
      "EPOCH: 160, Loss: 0.030021797940135\n"
     ]
    },
    {
     "name": "stderr",
     "output_type": "stream",
     "text": [
      "100%|██████████| 26/26 [00:18<00:00,  1.39it/s]\n"
     ]
    },
    {
     "name": "stdout",
     "output_type": "stream",
     "text": [
      "EPOCH: 161, Loss: 0.029531668201088906\n"
     ]
    },
    {
     "name": "stderr",
     "output_type": "stream",
     "text": [
      "100%|██████████| 26/26 [00:18<00:00,  1.40it/s]\n"
     ]
    },
    {
     "name": "stdout",
     "output_type": "stream",
     "text": [
      "EPOCH: 162, Loss: 0.02941880755126476\n"
     ]
    },
    {
     "name": "stderr",
     "output_type": "stream",
     "text": [
      "100%|██████████| 26/26 [00:18<00:00,  1.42it/s]\n"
     ]
    },
    {
     "name": "stdout",
     "output_type": "stream",
     "text": [
      "EPOCH: 163, Loss: 0.029073501527309416\n"
     ]
    },
    {
     "name": "stderr",
     "output_type": "stream",
     "text": [
      "100%|██████████| 26/26 [00:18<00:00,  1.39it/s]\n"
     ]
    },
    {
     "name": "stdout",
     "output_type": "stream",
     "text": [
      "EPOCH: 164, Loss: 0.029395716190338136\n"
     ]
    },
    {
     "name": "stderr",
     "output_type": "stream",
     "text": [
      "100%|██████████| 26/26 [00:18<00:00,  1.38it/s]\n"
     ]
    },
    {
     "name": "stdout",
     "output_type": "stream",
     "text": [
      "EPOCH: 165, Loss: 0.03041306421160698\n"
     ]
    },
    {
     "name": "stderr",
     "output_type": "stream",
     "text": [
      "100%|██████████| 26/26 [00:18<00:00,  1.40it/s]\n"
     ]
    },
    {
     "name": "stdout",
     "output_type": "stream",
     "text": [
      "EPOCH: 166, Loss: 0.030519607216119765\n"
     ]
    },
    {
     "name": "stderr",
     "output_type": "stream",
     "text": [
      "100%|██████████| 26/26 [00:18<00:00,  1.39it/s]\n"
     ]
    },
    {
     "name": "stdout",
     "output_type": "stream",
     "text": [
      "EPOCH: 167, Loss: 0.03065315693616867\n"
     ]
    },
    {
     "name": "stderr",
     "output_type": "stream",
     "text": [
      "100%|██████████| 26/26 [00:18<00:00,  1.39it/s]\n"
     ]
    },
    {
     "name": "stdout",
     "output_type": "stream",
     "text": [
      "EPOCH: 168, Loss: 0.029167757406830787\n"
     ]
    },
    {
     "name": "stderr",
     "output_type": "stream",
     "text": [
      "100%|██████████| 26/26 [00:18<00:00,  1.40it/s]\n"
     ]
    },
    {
     "name": "stdout",
     "output_type": "stream",
     "text": [
      "EPOCH: 169, Loss: 0.02854845590889454\n"
     ]
    },
    {
     "name": "stderr",
     "output_type": "stream",
     "text": [
      "100%|██████████| 26/26 [00:18<00:00,  1.41it/s]\n"
     ]
    },
    {
     "name": "stdout",
     "output_type": "stream",
     "text": [
      "EPOCH: 170, Loss: 0.028355941548943518\n"
     ]
    },
    {
     "name": "stderr",
     "output_type": "stream",
     "text": [
      "100%|██████████| 26/26 [00:18<00:00,  1.40it/s]\n"
     ]
    },
    {
     "name": "stdout",
     "output_type": "stream",
     "text": [
      "EPOCH: 171, Loss: 0.028253263160586357\n"
     ]
    },
    {
     "name": "stderr",
     "output_type": "stream",
     "text": [
      "100%|██████████| 26/26 [00:18<00:00,  1.39it/s]\n"
     ]
    },
    {
     "name": "stdout",
     "output_type": "stream",
     "text": [
      "EPOCH: 172, Loss: 0.02813675791025162\n"
     ]
    },
    {
     "name": "stderr",
     "output_type": "stream",
     "text": [
      "100%|██████████| 26/26 [00:18<00:00,  1.39it/s]\n"
     ]
    },
    {
     "name": "stdout",
     "output_type": "stream",
     "text": [
      "EPOCH: 173, Loss: 0.028056305721402167\n"
     ]
    },
    {
     "name": "stderr",
     "output_type": "stream",
     "text": [
      "100%|██████████| 26/26 [00:18<00:00,  1.40it/s]\n"
     ]
    },
    {
     "name": "stdout",
     "output_type": "stream",
     "text": [
      "EPOCH: 174, Loss: 0.027373248040676118\n"
     ]
    },
    {
     "name": "stderr",
     "output_type": "stream",
     "text": [
      "100%|██████████| 26/26 [00:18<00:00,  1.40it/s]\n"
     ]
    },
    {
     "name": "stdout",
     "output_type": "stream",
     "text": [
      "EPOCH: 175, Loss: 0.027037165239453317\n"
     ]
    },
    {
     "name": "stderr",
     "output_type": "stream",
     "text": [
      "100%|██████████| 26/26 [00:18<00:00,  1.40it/s]\n"
     ]
    },
    {
     "name": "stdout",
     "output_type": "stream",
     "text": [
      "EPOCH: 176, Loss: 0.02680568419396877\n"
     ]
    },
    {
     "name": "stderr",
     "output_type": "stream",
     "text": [
      "100%|██████████| 26/26 [00:18<00:00,  1.41it/s]\n"
     ]
    },
    {
     "name": "stdout",
     "output_type": "stream",
     "text": [
      "EPOCH: 177, Loss: 0.027017705664038657\n"
     ]
    },
    {
     "name": "stderr",
     "output_type": "stream",
     "text": [
      "100%|██████████| 26/26 [00:18<00:00,  1.38it/s]\n"
     ]
    },
    {
     "name": "stdout",
     "output_type": "stream",
     "text": [
      "EPOCH: 178, Loss: 0.026830526292324065\n"
     ]
    },
    {
     "name": "stderr",
     "output_type": "stream",
     "text": [
      "100%|██████████| 26/26 [00:18<00:00,  1.40it/s]\n"
     ]
    },
    {
     "name": "stdout",
     "output_type": "stream",
     "text": [
      "EPOCH: 179, Loss: 0.026425598487257958\n"
     ]
    },
    {
     "name": "stderr",
     "output_type": "stream",
     "text": [
      "100%|██████████| 26/26 [00:18<00:00,  1.39it/s]\n"
     ]
    },
    {
     "name": "stdout",
     "output_type": "stream",
     "text": [
      "EPOCH: 180, Loss: 0.02625061459839344\n"
     ]
    },
    {
     "name": "stderr",
     "output_type": "stream",
     "text": [
      "100%|██████████| 26/26 [00:18<00:00,  1.39it/s]\n"
     ]
    },
    {
     "name": "stdout",
     "output_type": "stream",
     "text": [
      "EPOCH: 181, Loss: 0.02653301991522312\n"
     ]
    },
    {
     "name": "stderr",
     "output_type": "stream",
     "text": [
      "100%|██████████| 26/26 [00:18<00:00,  1.40it/s]\n"
     ]
    },
    {
     "name": "stdout",
     "output_type": "stream",
     "text": [
      "EPOCH: 182, Loss: 0.026093813627958297\n"
     ]
    },
    {
     "name": "stderr",
     "output_type": "stream",
     "text": [
      "100%|██████████| 26/26 [00:18<00:00,  1.39it/s]\n"
     ]
    },
    {
     "name": "stdout",
     "output_type": "stream",
     "text": [
      "EPOCH: 183, Loss: 0.026357609033584594\n"
     ]
    },
    {
     "name": "stderr",
     "output_type": "stream",
     "text": [
      "100%|██████████| 26/26 [00:18<00:00,  1.39it/s]\n"
     ]
    },
    {
     "name": "stdout",
     "output_type": "stream",
     "text": [
      "EPOCH: 184, Loss: 0.02645638942718506\n"
     ]
    },
    {
     "name": "stderr",
     "output_type": "stream",
     "text": [
      "100%|██████████| 26/26 [00:18<00:00,  1.40it/s]\n"
     ]
    },
    {
     "name": "stdout",
     "output_type": "stream",
     "text": [
      "EPOCH: 185, Loss: 0.025872573927044867\n"
     ]
    },
    {
     "name": "stderr",
     "output_type": "stream",
     "text": [
      "100%|██████████| 26/26 [00:18<00:00,  1.39it/s]\n"
     ]
    },
    {
     "name": "stdout",
     "output_type": "stream",
     "text": [
      "EPOCH: 186, Loss: 0.025602587088942527\n"
     ]
    },
    {
     "name": "stderr",
     "output_type": "stream",
     "text": [
      "100%|██████████| 26/26 [00:18<00:00,  1.38it/s]\n"
     ]
    },
    {
     "name": "stdout",
     "output_type": "stream",
     "text": [
      "EPOCH: 187, Loss: 0.02552909180521965\n"
     ]
    },
    {
     "name": "stderr",
     "output_type": "stream",
     "text": [
      "100%|██████████| 26/26 [00:18<00:00,  1.40it/s]\n"
     ]
    },
    {
     "name": "stdout",
     "output_type": "stream",
     "text": [
      "EPOCH: 188, Loss: 0.025663866400718688\n"
     ]
    },
    {
     "name": "stderr",
     "output_type": "stream",
     "text": [
      "100%|██████████| 26/26 [00:18<00:00,  1.39it/s]\n"
     ]
    },
    {
     "name": "stdout",
     "output_type": "stream",
     "text": [
      "EPOCH: 189, Loss: 0.025767842158675194\n"
     ]
    },
    {
     "name": "stderr",
     "output_type": "stream",
     "text": [
      "100%|██████████| 26/26 [00:18<00:00,  1.40it/s]\n"
     ]
    },
    {
     "name": "stdout",
     "output_type": "stream",
     "text": [
      "EPOCH: 190, Loss: 0.024955116435885428\n"
     ]
    },
    {
     "name": "stderr",
     "output_type": "stream",
     "text": [
      "100%|██████████| 26/26 [00:18<00:00,  1.38it/s]\n"
     ]
    },
    {
     "name": "stdout",
     "output_type": "stream",
     "text": [
      "EPOCH: 191, Loss: 0.025154846608638762\n"
     ]
    },
    {
     "name": "stderr",
     "output_type": "stream",
     "text": [
      "100%|██████████| 26/26 [00:18<00:00,  1.38it/s]\n"
     ]
    },
    {
     "name": "stdout",
     "output_type": "stream",
     "text": [
      "EPOCH: 192, Loss: 0.024576945826411248\n"
     ]
    },
    {
     "name": "stderr",
     "output_type": "stream",
     "text": [
      "100%|██████████| 26/26 [00:18<00:00,  1.40it/s]\n"
     ]
    },
    {
     "name": "stdout",
     "output_type": "stream",
     "text": [
      "EPOCH: 193, Loss: 0.024787208288908003\n"
     ]
    },
    {
     "name": "stderr",
     "output_type": "stream",
     "text": [
      "100%|██████████| 26/26 [00:18<00:00,  1.40it/s]\n"
     ]
    },
    {
     "name": "stdout",
     "output_type": "stream",
     "text": [
      "EPOCH: 194, Loss: 0.024606324657797815\n"
     ]
    },
    {
     "name": "stderr",
     "output_type": "stream",
     "text": [
      "100%|██████████| 26/26 [00:18<00:00,  1.40it/s]\n"
     ]
    },
    {
     "name": "stdout",
     "output_type": "stream",
     "text": [
      "EPOCH: 195, Loss: 0.02439787209033966\n"
     ]
    },
    {
     "name": "stderr",
     "output_type": "stream",
     "text": [
      "100%|██████████| 26/26 [00:19<00:00,  1.36it/s]\n"
     ]
    },
    {
     "name": "stdout",
     "output_type": "stream",
     "text": [
      "EPOCH: 196, Loss: 0.02393925964832306\n"
     ]
    },
    {
     "name": "stderr",
     "output_type": "stream",
     "text": [
      "100%|██████████| 26/26 [00:18<00:00,  1.40it/s]\n"
     ]
    },
    {
     "name": "stdout",
     "output_type": "stream",
     "text": [
      "EPOCH: 197, Loss: 0.024128191843628882\n"
     ]
    },
    {
     "name": "stderr",
     "output_type": "stream",
     "text": [
      "100%|██████████| 26/26 [00:18<00:00,  1.39it/s]\n"
     ]
    },
    {
     "name": "stdout",
     "output_type": "stream",
     "text": [
      "EPOCH: 198, Loss: 0.02403367221355438\n"
     ]
    },
    {
     "name": "stderr",
     "output_type": "stream",
     "text": [
      "100%|██████████| 26/26 [00:18<00:00,  1.39it/s]\n"
     ]
    },
    {
     "name": "stdout",
     "output_type": "stream",
     "text": [
      "EPOCH: 199, Loss: 0.02416148915886879\n"
     ]
    },
    {
     "name": "stderr",
     "output_type": "stream",
     "text": [
      "100%|██████████| 26/26 [00:18<00:00,  1.39it/s]\n"
     ]
    },
    {
     "name": "stdout",
     "output_type": "stream",
     "text": [
      "EPOCH: 200, Loss: 0.024268405437469484\n"
     ]
    },
    {
     "name": "stderr",
     "output_type": "stream",
     "text": [
      "100%|██████████| 26/26 [00:18<00:00,  1.38it/s]\n"
     ]
    },
    {
     "name": "stdout",
     "output_type": "stream",
     "text": [
      "EPOCH: 201, Loss: 0.02393128424882889\n"
     ]
    },
    {
     "name": "stderr",
     "output_type": "stream",
     "text": [
      "100%|██████████| 26/26 [00:18<00:00,  1.39it/s]\n"
     ]
    },
    {
     "name": "stdout",
     "output_type": "stream",
     "text": [
      "EPOCH: 202, Loss: 0.0232923024892807\n"
     ]
    },
    {
     "name": "stderr",
     "output_type": "stream",
     "text": [
      "100%|██████████| 26/26 [00:18<00:00,  1.40it/s]\n"
     ]
    },
    {
     "name": "stdout",
     "output_type": "stream",
     "text": [
      "EPOCH: 203, Loss: 0.023319512456655502\n"
     ]
    },
    {
     "name": "stderr",
     "output_type": "stream",
     "text": [
      "100%|██████████| 26/26 [00:18<00:00,  1.40it/s]\n"
     ]
    },
    {
     "name": "stdout",
     "output_type": "stream",
     "text": [
      "EPOCH: 204, Loss: 0.023306424096226692\n"
     ]
    },
    {
     "name": "stderr",
     "output_type": "stream",
     "text": [
      "100%|██████████| 26/26 [00:18<00:00,  1.40it/s]\n"
     ]
    },
    {
     "name": "stdout",
     "output_type": "stream",
     "text": [
      "EPOCH: 205, Loss: 0.02278603434562683\n"
     ]
    },
    {
     "name": "stderr",
     "output_type": "stream",
     "text": [
      "100%|██████████| 26/26 [00:18<00:00,  1.39it/s]\n"
     ]
    },
    {
     "name": "stdout",
     "output_type": "stream",
     "text": [
      "EPOCH: 206, Loss: 0.0226028823107481\n"
     ]
    },
    {
     "name": "stderr",
     "output_type": "stream",
     "text": [
      "100%|██████████| 26/26 [00:18<00:00,  1.40it/s]\n"
     ]
    },
    {
     "name": "stdout",
     "output_type": "stream",
     "text": [
      "EPOCH: 207, Loss: 0.022727413401007653\n"
     ]
    },
    {
     "name": "stderr",
     "output_type": "stream",
     "text": [
      "100%|██████████| 26/26 [00:18<00:00,  1.40it/s]\n"
     ]
    },
    {
     "name": "stdout",
     "output_type": "stream",
     "text": [
      "EPOCH: 208, Loss: 0.02292906142771244\n"
     ]
    },
    {
     "name": "stderr",
     "output_type": "stream",
     "text": [
      "100%|██████████| 26/26 [00:18<00:00,  1.38it/s]\n"
     ]
    },
    {
     "name": "stdout",
     "output_type": "stream",
     "text": [
      "EPOCH: 209, Loss: 0.022705105394124986\n"
     ]
    },
    {
     "name": "stderr",
     "output_type": "stream",
     "text": [
      "100%|██████████| 26/26 [00:18<00:00,  1.40it/s]\n"
     ]
    },
    {
     "name": "stdout",
     "output_type": "stream",
     "text": [
      "EPOCH: 210, Loss: 0.022436494082212446\n"
     ]
    },
    {
     "name": "stderr",
     "output_type": "stream",
     "text": [
      "100%|██████████| 26/26 [00:18<00:00,  1.39it/s]\n"
     ]
    },
    {
     "name": "stdout",
     "output_type": "stream",
     "text": [
      "EPOCH: 211, Loss: 0.022029170095920564\n"
     ]
    },
    {
     "name": "stderr",
     "output_type": "stream",
     "text": [
      "100%|██████████| 26/26 [00:18<00:00,  1.39it/s]\n"
     ]
    },
    {
     "name": "stdout",
     "output_type": "stream",
     "text": [
      "EPOCH: 212, Loss: 0.022105969414114954\n"
     ]
    },
    {
     "name": "stderr",
     "output_type": "stream",
     "text": [
      "100%|██████████| 26/26 [00:18<00:00,  1.40it/s]\n"
     ]
    },
    {
     "name": "stdout",
     "output_type": "stream",
     "text": [
      "EPOCH: 213, Loss: 0.021928970366716385\n"
     ]
    },
    {
     "name": "stderr",
     "output_type": "stream",
     "text": [
      "100%|██████████| 26/26 [00:18<00:00,  1.39it/s]\n"
     ]
    },
    {
     "name": "stdout",
     "output_type": "stream",
     "text": [
      "EPOCH: 214, Loss: 0.02221183240413666\n"
     ]
    },
    {
     "name": "stderr",
     "output_type": "stream",
     "text": [
      "100%|██████████| 26/26 [00:18<00:00,  1.40it/s]\n"
     ]
    },
    {
     "name": "stdout",
     "output_type": "stream",
     "text": [
      "EPOCH: 215, Loss: 0.02212219566106796\n"
     ]
    },
    {
     "name": "stderr",
     "output_type": "stream",
     "text": [
      "100%|██████████| 26/26 [00:18<00:00,  1.39it/s]\n"
     ]
    },
    {
     "name": "stdout",
     "output_type": "stream",
     "text": [
      "EPOCH: 216, Loss: 0.021704335138201712\n"
     ]
    },
    {
     "name": "stderr",
     "output_type": "stream",
     "text": [
      "100%|██████████| 26/26 [00:18<00:00,  1.38it/s]\n"
     ]
    },
    {
     "name": "stdout",
     "output_type": "stream",
     "text": [
      "EPOCH: 217, Loss: 0.021984538659453393\n"
     ]
    },
    {
     "name": "stderr",
     "output_type": "stream",
     "text": [
      "100%|██████████| 26/26 [00:18<00:00,  1.39it/s]\n"
     ]
    },
    {
     "name": "stdout",
     "output_type": "stream",
     "text": [
      "EPOCH: 218, Loss: 0.02161540202796459\n"
     ]
    },
    {
     "name": "stderr",
     "output_type": "stream",
     "text": [
      "100%|██████████| 26/26 [00:18<00:00,  1.40it/s]\n"
     ]
    },
    {
     "name": "stdout",
     "output_type": "stream",
     "text": [
      "EPOCH: 219, Loss: 0.021220899596810342\n"
     ]
    },
    {
     "name": "stderr",
     "output_type": "stream",
     "text": [
      "100%|██████████| 26/26 [00:18<00:00,  1.38it/s]\n"
     ]
    },
    {
     "name": "stdout",
     "output_type": "stream",
     "text": [
      "EPOCH: 220, Loss: 0.021245833933353424\n"
     ]
    },
    {
     "name": "stderr",
     "output_type": "stream",
     "text": [
      "100%|██████████| 26/26 [00:18<00:00,  1.39it/s]\n"
     ]
    },
    {
     "name": "stdout",
     "output_type": "stream",
     "text": [
      "EPOCH: 221, Loss: 0.021066182926297188\n"
     ]
    },
    {
     "name": "stderr",
     "output_type": "stream",
     "text": [
      "100%|██████████| 26/26 [00:18<00:00,  1.40it/s]\n"
     ]
    },
    {
     "name": "stdout",
     "output_type": "stream",
     "text": [
      "EPOCH: 222, Loss: 0.0209262578189373\n"
     ]
    },
    {
     "name": "stderr",
     "output_type": "stream",
     "text": [
      "100%|██████████| 26/26 [00:18<00:00,  1.40it/s]\n"
     ]
    },
    {
     "name": "stdout",
     "output_type": "stream",
     "text": [
      "EPOCH: 223, Loss: 0.020719712227582933\n"
     ]
    },
    {
     "name": "stderr",
     "output_type": "stream",
     "text": [
      "100%|██████████| 26/26 [00:18<00:00,  1.39it/s]\n"
     ]
    },
    {
     "name": "stdout",
     "output_type": "stream",
     "text": [
      "EPOCH: 224, Loss: 0.020747355371713638\n"
     ]
    },
    {
     "name": "stderr",
     "output_type": "stream",
     "text": [
      "100%|██████████| 26/26 [00:18<00:00,  1.40it/s]\n"
     ]
    },
    {
     "name": "stdout",
     "output_type": "stream",
     "text": [
      "EPOCH: 225, Loss: 0.020675686448812486\n"
     ]
    },
    {
     "name": "stderr",
     "output_type": "stream",
     "text": [
      "100%|██████████| 26/26 [00:18<00:00,  1.39it/s]\n"
     ]
    },
    {
     "name": "stdout",
     "output_type": "stream",
     "text": [
      "EPOCH: 226, Loss: 0.0214180988073349\n"
     ]
    },
    {
     "name": "stderr",
     "output_type": "stream",
     "text": [
      "100%|██████████| 26/26 [00:18<00:00,  1.39it/s]\n"
     ]
    },
    {
     "name": "stdout",
     "output_type": "stream",
     "text": [
      "EPOCH: 227, Loss: 0.02146351121366024\n"
     ]
    },
    {
     "name": "stderr",
     "output_type": "stream",
     "text": [
      "100%|██████████| 26/26 [00:18<00:00,  1.40it/s]\n"
     ]
    },
    {
     "name": "stdout",
     "output_type": "stream",
     "text": [
      "EPOCH: 228, Loss: 0.020593021512031556\n"
     ]
    },
    {
     "name": "stderr",
     "output_type": "stream",
     "text": [
      "100%|██████████| 26/26 [00:18<00:00,  1.40it/s]\n"
     ]
    },
    {
     "name": "stdout",
     "output_type": "stream",
     "text": [
      "EPOCH: 229, Loss: 0.020294881239533425\n"
     ]
    },
    {
     "name": "stderr",
     "output_type": "stream",
     "text": [
      "100%|██████████| 26/26 [00:18<00:00,  1.40it/s]\n"
     ]
    },
    {
     "name": "stdout",
     "output_type": "stream",
     "text": [
      "EPOCH: 230, Loss: 0.020246968045830725\n"
     ]
    },
    {
     "name": "stderr",
     "output_type": "stream",
     "text": [
      "100%|██████████| 26/26 [00:18<00:00,  1.40it/s]\n"
     ]
    },
    {
     "name": "stdout",
     "output_type": "stream",
     "text": [
      "EPOCH: 231, Loss: 0.020103930681943893\n"
     ]
    },
    {
     "name": "stderr",
     "output_type": "stream",
     "text": [
      "100%|██████████| 26/26 [00:18<00:00,  1.40it/s]\n"
     ]
    },
    {
     "name": "stdout",
     "output_type": "stream",
     "text": [
      "EPOCH: 232, Loss: 0.02003428652882576\n"
     ]
    },
    {
     "name": "stderr",
     "output_type": "stream",
     "text": [
      "100%|██████████| 26/26 [00:18<00:00,  1.40it/s]\n"
     ]
    },
    {
     "name": "stdout",
     "output_type": "stream",
     "text": [
      "EPOCH: 233, Loss: 0.01996840089559555\n"
     ]
    },
    {
     "name": "stderr",
     "output_type": "stream",
     "text": [
      "100%|██████████| 26/26 [00:18<00:00,  1.39it/s]\n"
     ]
    },
    {
     "name": "stdout",
     "output_type": "stream",
     "text": [
      "EPOCH: 234, Loss: 0.019499623477458955\n"
     ]
    },
    {
     "name": "stderr",
     "output_type": "stream",
     "text": [
      "100%|██████████| 26/26 [00:18<00:00,  1.40it/s]\n"
     ]
    },
    {
     "name": "stdout",
     "output_type": "stream",
     "text": [
      "EPOCH: 235, Loss: 0.019580172076821327\n"
     ]
    },
    {
     "name": "stderr",
     "output_type": "stream",
     "text": [
      "100%|██████████| 26/26 [00:18<00:00,  1.37it/s]\n"
     ]
    },
    {
     "name": "stdout",
     "output_type": "stream",
     "text": [
      "EPOCH: 236, Loss: 0.019645330011844635\n"
     ]
    },
    {
     "name": "stderr",
     "output_type": "stream",
     "text": [
      "100%|██████████| 26/26 [00:18<00:00,  1.40it/s]\n"
     ]
    },
    {
     "name": "stdout",
     "output_type": "stream",
     "text": [
      "EPOCH: 237, Loss: 0.019371342211961746\n"
     ]
    },
    {
     "name": "stderr",
     "output_type": "stream",
     "text": [
      "100%|██████████| 26/26 [00:18<00:00,  1.40it/s]\n"
     ]
    },
    {
     "name": "stdout",
     "output_type": "stream",
     "text": [
      "EPOCH: 238, Loss: 0.019529851749539376\n"
     ]
    },
    {
     "name": "stderr",
     "output_type": "stream",
     "text": [
      "100%|██████████| 26/26 [00:18<00:00,  1.38it/s]\n"
     ]
    },
    {
     "name": "stdout",
     "output_type": "stream",
     "text": [
      "EPOCH: 239, Loss: 0.019946816191077233\n"
     ]
    },
    {
     "name": "stderr",
     "output_type": "stream",
     "text": [
      "100%|██████████| 26/26 [00:18<00:00,  1.38it/s]\n"
     ]
    },
    {
     "name": "stdout",
     "output_type": "stream",
     "text": [
      "EPOCH: 240, Loss: 0.019215013459324838\n"
     ]
    },
    {
     "name": "stderr",
     "output_type": "stream",
     "text": [
      "100%|██████████| 26/26 [00:18<00:00,  1.39it/s]\n"
     ]
    },
    {
     "name": "stdout",
     "output_type": "stream",
     "text": [
      "EPOCH: 241, Loss: 0.019030428901314737\n"
     ]
    },
    {
     "name": "stderr",
     "output_type": "stream",
     "text": [
      "100%|██████████| 26/26 [00:18<00:00,  1.40it/s]\n"
     ]
    },
    {
     "name": "stdout",
     "output_type": "stream",
     "text": [
      "EPOCH: 242, Loss: 0.019035369902849198\n"
     ]
    },
    {
     "name": "stderr",
     "output_type": "stream",
     "text": [
      "100%|██████████| 26/26 [00:18<00:00,  1.39it/s]\n"
     ]
    },
    {
     "name": "stdout",
     "output_type": "stream",
     "text": [
      "EPOCH: 243, Loss: 0.019218888729810715\n"
     ]
    },
    {
     "name": "stderr",
     "output_type": "stream",
     "text": [
      "100%|██████████| 26/26 [00:18<00:00,  1.38it/s]\n"
     ]
    },
    {
     "name": "stdout",
     "output_type": "stream",
     "text": [
      "EPOCH: 244, Loss: 0.018888933435082435\n"
     ]
    },
    {
     "name": "stderr",
     "output_type": "stream",
     "text": [
      "100%|██████████| 26/26 [00:18<00:00,  1.39it/s]\n"
     ]
    },
    {
     "name": "stdout",
     "output_type": "stream",
     "text": [
      "EPOCH: 245, Loss: 0.018609550967812537\n"
     ]
    },
    {
     "name": "stderr",
     "output_type": "stream",
     "text": [
      "100%|██████████| 26/26 [00:18<00:00,  1.40it/s]\n"
     ]
    },
    {
     "name": "stdout",
     "output_type": "stream",
     "text": [
      "EPOCH: 246, Loss: 0.018349273055791857\n"
     ]
    },
    {
     "name": "stderr",
     "output_type": "stream",
     "text": [
      "100%|██████████| 26/26 [00:18<00:00,  1.39it/s]\n"
     ]
    },
    {
     "name": "stdout",
     "output_type": "stream",
     "text": [
      "EPOCH: 247, Loss: 0.018449019566178324\n"
     ]
    },
    {
     "name": "stderr",
     "output_type": "stream",
     "text": [
      "100%|██████████| 26/26 [00:18<00:00,  1.39it/s]\n"
     ]
    },
    {
     "name": "stdout",
     "output_type": "stream",
     "text": [
      "EPOCH: 248, Loss: 0.018280459493398668\n"
     ]
    },
    {
     "name": "stderr",
     "output_type": "stream",
     "text": [
      "100%|██████████| 26/26 [00:18<00:00,  1.40it/s]\n"
     ]
    },
    {
     "name": "stdout",
     "output_type": "stream",
     "text": [
      "EPOCH: 249, Loss: 0.01827216774225235\n"
     ]
    },
    {
     "name": "stderr",
     "output_type": "stream",
     "text": [
      "100%|██████████| 26/26 [00:18<00:00,  1.39it/s]\n"
     ]
    },
    {
     "name": "stdout",
     "output_type": "stream",
     "text": [
      "EPOCH: 250, Loss: 0.01815745647996664\n"
     ]
    },
    {
     "name": "stderr",
     "output_type": "stream",
     "text": [
      "100%|██████████| 26/26 [00:18<00:00,  1.42it/s]\n"
     ]
    },
    {
     "name": "stdout",
     "output_type": "stream",
     "text": [
      "EPOCH: 251, Loss: 0.018165355399250984\n"
     ]
    },
    {
     "name": "stderr",
     "output_type": "stream",
     "text": [
      "100%|██████████| 26/26 [00:18<00:00,  1.42it/s]\n"
     ]
    },
    {
     "name": "stdout",
     "output_type": "stream",
     "text": [
      "EPOCH: 252, Loss: 0.018457251861691476\n"
     ]
    },
    {
     "name": "stderr",
     "output_type": "stream",
     "text": [
      "100%|██████████| 26/26 [00:18<00:00,  1.40it/s]\n"
     ]
    },
    {
     "name": "stdout",
     "output_type": "stream",
     "text": [
      "EPOCH: 253, Loss: 0.01811013784259558\n"
     ]
    },
    {
     "name": "stderr",
     "output_type": "stream",
     "text": [
      "100%|██████████| 26/26 [00:18<00:00,  1.42it/s]\n"
     ]
    },
    {
     "name": "stdout",
     "output_type": "stream",
     "text": [
      "EPOCH: 254, Loss: 0.01818039532750845\n"
     ]
    },
    {
     "name": "stderr",
     "output_type": "stream",
     "text": [
      "100%|██████████| 26/26 [00:18<00:00,  1.42it/s]\n"
     ]
    },
    {
     "name": "stdout",
     "output_type": "stream",
     "text": [
      "EPOCH: 255, Loss: 0.01777736786752939\n"
     ]
    },
    {
     "name": "stderr",
     "output_type": "stream",
     "text": [
      "100%|██████████| 26/26 [00:18<00:00,  1.41it/s]\n"
     ]
    },
    {
     "name": "stdout",
     "output_type": "stream",
     "text": [
      "EPOCH: 256, Loss: 0.017643874622881413\n"
     ]
    },
    {
     "name": "stderr",
     "output_type": "stream",
     "text": [
      "100%|██████████| 26/26 [00:18<00:00,  1.42it/s]\n"
     ]
    },
    {
     "name": "stdout",
     "output_type": "stream",
     "text": [
      "EPOCH: 257, Loss: 0.017549683637917042\n"
     ]
    },
    {
     "name": "stderr",
     "output_type": "stream",
     "text": [
      "100%|██████████| 26/26 [00:18<00:00,  1.42it/s]\n"
     ]
    },
    {
     "name": "stdout",
     "output_type": "stream",
     "text": [
      "EPOCH: 258, Loss: 0.017470811679959296\n"
     ]
    },
    {
     "name": "stderr",
     "output_type": "stream",
     "text": [
      "100%|██████████| 26/26 [00:18<00:00,  1.42it/s]\n"
     ]
    },
    {
     "name": "stdout",
     "output_type": "stream",
     "text": [
      "EPOCH: 259, Loss: 0.017433211766183378\n"
     ]
    },
    {
     "name": "stderr",
     "output_type": "stream",
     "text": [
      "100%|██████████| 26/26 [00:18<00:00,  1.42it/s]\n"
     ]
    },
    {
     "name": "stdout",
     "output_type": "stream",
     "text": [
      "EPOCH: 260, Loss: 0.017608774788677693\n"
     ]
    },
    {
     "name": "stderr",
     "output_type": "stream",
     "text": [
      "100%|██████████| 26/26 [00:18<00:00,  1.42it/s]\n"
     ]
    },
    {
     "name": "stdout",
     "output_type": "stream",
     "text": [
      "EPOCH: 261, Loss: 0.01725815888494253\n"
     ]
    },
    {
     "name": "stderr",
     "output_type": "stream",
     "text": [
      "100%|██████████| 26/26 [00:18<00:00,  1.42it/s]\n"
     ]
    },
    {
     "name": "stdout",
     "output_type": "stream",
     "text": [
      "EPOCH: 262, Loss: 0.017702299058437346\n"
     ]
    },
    {
     "name": "stderr",
     "output_type": "stream",
     "text": [
      "100%|██████████| 26/26 [00:18<00:00,  1.41it/s]\n"
     ]
    },
    {
     "name": "stdout",
     "output_type": "stream",
     "text": [
      "EPOCH: 263, Loss: 0.018997539058327673\n"
     ]
    },
    {
     "name": "stderr",
     "output_type": "stream",
     "text": [
      "100%|██████████| 26/26 [00:18<00:00,  1.40it/s]\n"
     ]
    },
    {
     "name": "stdout",
     "output_type": "stream",
     "text": [
      "EPOCH: 264, Loss: 0.017636724784970283\n"
     ]
    },
    {
     "name": "stderr",
     "output_type": "stream",
     "text": [
      "100%|██████████| 26/26 [00:18<00:00,  1.42it/s]\n"
     ]
    },
    {
     "name": "stdout",
     "output_type": "stream",
     "text": [
      "EPOCH: 265, Loss: 0.017300160229206087\n"
     ]
    },
    {
     "name": "stderr",
     "output_type": "stream",
     "text": [
      "100%|██████████| 26/26 [00:18<00:00,  1.43it/s]\n"
     ]
    },
    {
     "name": "stdout",
     "output_type": "stream",
     "text": [
      "EPOCH: 266, Loss: 0.01729869082570076\n"
     ]
    },
    {
     "name": "stderr",
     "output_type": "stream",
     "text": [
      "100%|██████████| 26/26 [00:18<00:00,  1.42it/s]\n"
     ]
    },
    {
     "name": "stdout",
     "output_type": "stream",
     "text": [
      "EPOCH: 267, Loss: 0.01670296210795641\n"
     ]
    },
    {
     "name": "stderr",
     "output_type": "stream",
     "text": [
      "100%|██████████| 26/26 [00:18<00:00,  1.43it/s]\n"
     ]
    },
    {
     "name": "stdout",
     "output_type": "stream",
     "text": [
      "EPOCH: 268, Loss: 0.016647150628268718\n"
     ]
    },
    {
     "name": "stderr",
     "output_type": "stream",
     "text": [
      "100%|██████████| 26/26 [00:18<00:00,  1.43it/s]\n"
     ]
    },
    {
     "name": "stdout",
     "output_type": "stream",
     "text": [
      "EPOCH: 269, Loss: 0.016505270376801492\n"
     ]
    },
    {
     "name": "stderr",
     "output_type": "stream",
     "text": [
      "100%|██████████| 26/26 [00:18<00:00,  1.42it/s]\n"
     ]
    },
    {
     "name": "stdout",
     "output_type": "stream",
     "text": [
      "EPOCH: 270, Loss: 0.016317515894770623\n"
     ]
    },
    {
     "name": "stderr",
     "output_type": "stream",
     "text": [
      "100%|██████████| 26/26 [00:18<00:00,  1.43it/s]\n"
     ]
    },
    {
     "name": "stdout",
     "output_type": "stream",
     "text": [
      "EPOCH: 271, Loss: 0.01643029000610113\n"
     ]
    },
    {
     "name": "stderr",
     "output_type": "stream",
     "text": [
      "100%|██████████| 26/26 [00:18<00:00,  1.42it/s]\n"
     ]
    },
    {
     "name": "stdout",
     "output_type": "stream",
     "text": [
      "EPOCH: 272, Loss: 0.016404089480638505\n"
     ]
    },
    {
     "name": "stderr",
     "output_type": "stream",
     "text": [
      "100%|██████████| 26/26 [00:18<00:00,  1.43it/s]\n"
     ]
    },
    {
     "name": "stdout",
     "output_type": "stream",
     "text": [
      "EPOCH: 273, Loss: 0.016104525923728942\n"
     ]
    },
    {
     "name": "stderr",
     "output_type": "stream",
     "text": [
      "100%|██████████| 26/26 [00:18<00:00,  1.42it/s]\n"
     ]
    },
    {
     "name": "stdout",
     "output_type": "stream",
     "text": [
      "EPOCH: 274, Loss: 0.01622000355273485\n"
     ]
    },
    {
     "name": "stderr",
     "output_type": "stream",
     "text": [
      "100%|██████████| 26/26 [00:18<00:00,  1.41it/s]\n"
     ]
    },
    {
     "name": "stdout",
     "output_type": "stream",
     "text": [
      "EPOCH: 275, Loss: 0.01627785224467516\n"
     ]
    },
    {
     "name": "stderr",
     "output_type": "stream",
     "text": [
      "100%|██████████| 26/26 [00:18<00:00,  1.42it/s]\n"
     ]
    },
    {
     "name": "stdout",
     "output_type": "stream",
     "text": [
      "EPOCH: 276, Loss: 0.01625731445848942\n"
     ]
    },
    {
     "name": "stderr",
     "output_type": "stream",
     "text": [
      "100%|██████████| 26/26 [00:18<00:00,  1.41it/s]\n"
     ]
    },
    {
     "name": "stdout",
     "output_type": "stream",
     "text": [
      "EPOCH: 277, Loss: 0.016019920632243157\n"
     ]
    },
    {
     "name": "stderr",
     "output_type": "stream",
     "text": [
      "100%|██████████| 26/26 [00:18<00:00,  1.42it/s]\n"
     ]
    },
    {
     "name": "stdout",
     "output_type": "stream",
     "text": [
      "EPOCH: 278, Loss: 0.01632533222436905\n"
     ]
    },
    {
     "name": "stderr",
     "output_type": "stream",
     "text": [
      "100%|██████████| 26/26 [00:18<00:00,  1.40it/s]\n"
     ]
    },
    {
     "name": "stdout",
     "output_type": "stream",
     "text": [
      "EPOCH: 279, Loss: 0.015899116061627864\n"
     ]
    },
    {
     "name": "stderr",
     "output_type": "stream",
     "text": [
      "100%|██████████| 26/26 [00:18<00:00,  1.43it/s]\n"
     ]
    },
    {
     "name": "stdout",
     "output_type": "stream",
     "text": [
      "EPOCH: 280, Loss: 0.015719685293734072\n"
     ]
    },
    {
     "name": "stderr",
     "output_type": "stream",
     "text": [
      "100%|██████████| 26/26 [00:18<00:00,  1.42it/s]\n"
     ]
    },
    {
     "name": "stdout",
     "output_type": "stream",
     "text": [
      "EPOCH: 281, Loss: 0.015691490061581135\n"
     ]
    },
    {
     "name": "stderr",
     "output_type": "stream",
     "text": [
      "100%|██████████| 26/26 [00:18<00:00,  1.42it/s]\n"
     ]
    },
    {
     "name": "stdout",
     "output_type": "stream",
     "text": [
      "EPOCH: 282, Loss: 0.015673527009785176\n"
     ]
    },
    {
     "name": "stderr",
     "output_type": "stream",
     "text": [
      "100%|██████████| 26/26 [00:18<00:00,  1.42it/s]\n"
     ]
    },
    {
     "name": "stdout",
     "output_type": "stream",
     "text": [
      "EPOCH: 283, Loss: 0.015504616573452949\n"
     ]
    },
    {
     "name": "stderr",
     "output_type": "stream",
     "text": [
      "100%|██████████| 26/26 [00:18<00:00,  1.42it/s]\n"
     ]
    },
    {
     "name": "stdout",
     "output_type": "stream",
     "text": [
      "EPOCH: 284, Loss: 0.015483406223356724\n"
     ]
    },
    {
     "name": "stderr",
     "output_type": "stream",
     "text": [
      "100%|██████████| 26/26 [00:18<00:00,  1.41it/s]\n"
     ]
    },
    {
     "name": "stdout",
     "output_type": "stream",
     "text": [
      "EPOCH: 285, Loss: 0.015476735271513463\n"
     ]
    },
    {
     "name": "stderr",
     "output_type": "stream",
     "text": [
      "100%|██████████| 26/26 [00:18<00:00,  1.42it/s]\n"
     ]
    },
    {
     "name": "stdout",
     "output_type": "stream",
     "text": [
      "EPOCH: 286, Loss: 0.015231347754597663\n"
     ]
    },
    {
     "name": "stderr",
     "output_type": "stream",
     "text": [
      "100%|██████████| 26/26 [00:18<00:00,  1.42it/s]\n"
     ]
    },
    {
     "name": "stdout",
     "output_type": "stream",
     "text": [
      "EPOCH: 287, Loss: 0.015214429944753647\n"
     ]
    },
    {
     "name": "stderr",
     "output_type": "stream",
     "text": [
      "100%|██████████| 26/26 [00:18<00:00,  1.41it/s]\n"
     ]
    },
    {
     "name": "stdout",
     "output_type": "stream",
     "text": [
      "EPOCH: 288, Loss: 0.015257168263196945\n"
     ]
    },
    {
     "name": "stderr",
     "output_type": "stream",
     "text": [
      "100%|██████████| 26/26 [00:18<00:00,  1.42it/s]\n"
     ]
    },
    {
     "name": "stdout",
     "output_type": "stream",
     "text": [
      "EPOCH: 289, Loss: 0.015415594354271889\n"
     ]
    },
    {
     "name": "stderr",
     "output_type": "stream",
     "text": [
      "100%|██████████| 26/26 [00:18<00:00,  1.42it/s]\n"
     ]
    },
    {
     "name": "stdout",
     "output_type": "stream",
     "text": [
      "EPOCH: 290, Loss: 0.016174130849540235\n"
     ]
    },
    {
     "name": "stderr",
     "output_type": "stream",
     "text": [
      "100%|██████████| 26/26 [00:18<00:00,  1.43it/s]\n"
     ]
    },
    {
     "name": "stdout",
     "output_type": "stream",
     "text": [
      "EPOCH: 291, Loss: 0.015367058627307415\n"
     ]
    },
    {
     "name": "stderr",
     "output_type": "stream",
     "text": [
      "100%|██████████| 26/26 [00:18<00:00,  1.42it/s]\n"
     ]
    },
    {
     "name": "stdout",
     "output_type": "stream",
     "text": [
      "EPOCH: 292, Loss: 0.015012151673436164\n"
     ]
    },
    {
     "name": "stderr",
     "output_type": "stream",
     "text": [
      "100%|██████████| 26/26 [00:18<00:00,  1.41it/s]\n"
     ]
    },
    {
     "name": "stdout",
     "output_type": "stream",
     "text": [
      "EPOCH: 293, Loss: 0.015062587037682533\n"
     ]
    },
    {
     "name": "stderr",
     "output_type": "stream",
     "text": [
      "100%|██████████| 26/26 [00:18<00:00,  1.42it/s]\n"
     ]
    },
    {
     "name": "stdout",
     "output_type": "stream",
     "text": [
      "EPOCH: 294, Loss: 0.015121883377432824\n"
     ]
    },
    {
     "name": "stderr",
     "output_type": "stream",
     "text": [
      "100%|██████████| 26/26 [00:18<00:00,  1.41it/s]\n"
     ]
    },
    {
     "name": "stdout",
     "output_type": "stream",
     "text": [
      "EPOCH: 295, Loss: 0.01470620058476925\n"
     ]
    },
    {
     "name": "stderr",
     "output_type": "stream",
     "text": [
      "100%|██████████| 26/26 [00:18<00:00,  1.41it/s]\n"
     ]
    },
    {
     "name": "stdout",
     "output_type": "stream",
     "text": [
      "EPOCH: 296, Loss: 0.014761250130832196\n"
     ]
    },
    {
     "name": "stderr",
     "output_type": "stream",
     "text": [
      "100%|██████████| 26/26 [00:18<00:00,  1.41it/s]\n"
     ]
    },
    {
     "name": "stdout",
     "output_type": "stream",
     "text": [
      "EPOCH: 297, Loss: 0.014579453580081463\n"
     ]
    },
    {
     "name": "stderr",
     "output_type": "stream",
     "text": [
      "100%|██████████| 26/26 [00:18<00:00,  1.42it/s]\n"
     ]
    },
    {
     "name": "stdout",
     "output_type": "stream",
     "text": [
      "EPOCH: 298, Loss: 0.01467878133058548\n"
     ]
    },
    {
     "name": "stderr",
     "output_type": "stream",
     "text": [
      "100%|██████████| 26/26 [00:18<00:00,  1.41it/s]\n"
     ]
    },
    {
     "name": "stdout",
     "output_type": "stream",
     "text": [
      "EPOCH: 299, Loss: 0.014654075913131236\n"
     ]
    }
   ],
   "source": [
    "#%% train\n",
    "num_epochs = 300\n",
    "losses = []\n",
    "best_loss = 1e10\n",
    "train_dataset = NpzDataset(npz_tr_path)\n",
    "train_dataloader = DataLoader(train_dataset, batch_size=64, shuffle=True, drop_last=True)\n",
    "for epoch in range(num_epochs):\n",
    "    epoch_loss = 0\n",
    "    # train\n",
    "    for step, (image_embedding, gt2D, boxes) in enumerate(tqdm(train_dataloader)):\n",
    "        # do not compute gradients for image encoder and prompt encoder\n",
    "\n",
    "        # print(f\"{image_embedding.shape=}, {gt2D.shape=}, {bboxes.shape=}\")\n",
    "        with torch.no_grad():\n",
    "            sam_trans = ResizeLongestSide(sam_model.image_encoder.img_size)\n",
    "            foreground_point = np.array([[np.random.randint(0, gt2D.shape[-2]//2),np.random.randint(0, gt2D.shape[-1])]])\n",
    "            foreground_label = np.array([1])\n",
    "            background_point = np.array([[np.random.randint(gt2D.shape[-2]//2, gt2D.shape[-2]),np.random.randint(0, gt2D.shape[-1])]])\n",
    "            background_label = np.array([0])\n",
    "\n",
    "            onnx_coord = np.concatenate([foreground_point, background_point], axis=0)[None, :, :]\n",
    "            point = sam_trans.apply_coords(onnx_coord, (gt2D.shape[-2], gt2D.shape[-1]))\n",
    "            point_torch = torch.as_tensor(point, dtype=torch.float, device=device)\n",
    "            onnx_label = np.concatenate([foreground_label, background_label], axis=0)[None, :].astype(np.float32)\n",
    "            label_torch = torch.as_tensor(onnx_label, dtype=torch.float, device=device)\n",
    "            point_torch = point_torch.repeat((64,1,1))\n",
    "            label_torch = label_torch.repeat((64,1))\n",
    "\n",
    "            point_tuple = (point_torch, label_torch)\n",
    "            # convert box to 1024x1024 grid\n",
    "            box_np = boxes.numpy()\n",
    "            box = sam_trans.apply_boxes(box_np, (gt2D.shape[-2], gt2D.shape[-1]))\n",
    "            box_torch = torch.as_tensor(box, dtype=torch.float, device=device)\n",
    "            # print(point_tuple, point_torch.shape, box_torch.shape, box_torch[0])\n",
    "            # if len(point_torch.shape) == 1:\n",
    "            #     point_torch = point_torch.expand(-1, -1, 64) # (B, 1, 4)\n",
    "            if len(box_torch.shape) == 2:\n",
    "                box_torch = box_torch[:, None, :] # (B, 1, 4)\n",
    "            # print(point_tuple, point_torch.shape, box_torch.shape, box_np.shape)\n",
    "\n",
    "            # get prompt embeddings \n",
    "            sparse_embeddings, dense_embeddings = sam_model.prompt_encoder(\n",
    "                points=point_tuple,\n",
    "                boxes=box_torch,\n",
    "                masks=None,\n",
    "            )\n",
    "        # predicted masks\n",
    "        mask_predictions, _ = sam_model.mask_decoder(\n",
    "            image_embeddings=image_embedding.to(device), # (B, 256, 64, 64)\n",
    "            image_pe=sam_model.prompt_encoder.get_dense_pe(), # (1, 256, 64, 64)\n",
    "            sparse_prompt_embeddings=sparse_embeddings, # (B, 2, 256)\n",
    "            dense_prompt_embeddings=dense_embeddings, # (B, 256, 64, 64)\n",
    "            multimask_output=False,\n",
    "          )\n",
    "\n",
    "        loss = seg_loss(mask_predictions, gt2D.to(device))\n",
    "        optimizer.zero_grad()\n",
    "        loss.backward()\n",
    "        optimizer.step()\n",
    "        epoch_loss += loss.item()\n",
    "    epoch_loss /= step\n",
    "    losses.append(epoch_loss)\n",
    "    print(f'EPOCH: {epoch}, Loss: {epoch_loss}')\n",
    "    # save the latest model checkpoint\n",
    "    torch.save(sam_model.state_dict(), join(model_save_path, 'sam_model_latest.pth'))\n",
    "    # save the best model\n",
    "    if epoch_loss < best_loss:\n",
    "        best_loss = epoch_loss\n",
    "        torch.save(sam_model.state_dict(), join(model_save_path, 'sam_model_best.pth'))\n",
    "    # break"
   ]
  },
  {
   "cell_type": "code",
   "execution_count": 7,
   "metadata": {},
   "outputs": [
    {
     "data": {
      "image/png": "[encoded data removed]",
      "text/plain": [
       "<Figure size 640x480 with 1 Axes>"
      ]
     },
     "metadata": {},
     "output_type": "display_data"
    }
   ],
   "source": [
    "# plot loss\n",
    "plt.plot(losses)\n",
    "plt.title('Dice + Cross Entropy Loss')\n",
    "plt.xlabel('Epoch')\n",
    "plt.ylabel('Loss')\n",
    "plt.show() # comment this line if you are running on a server\n",
    "plt.savefig(join(model_save_path, 'train_loss.png'))\n",
    "plt.close()"
   ]
  },
  {
   "cell_type": "code",
   "execution_count": 15,
   "metadata": {},
   "outputs": [
    {
     "name": "stdout",
     "output_type": "stream",
     "text": [
      "imgs.shape=(81, 256, 256, 3), gts.shape=(81, 256, 256)\n"
     ]
    }
   ],
   "source": [
    "#%% compare the segmentation results between the original SAM model and the fine-tuned model\n",
    "# load the original SAM model\n",
    "device = torch.device('cuda' if torch.cuda.is_available() else 'cpu')\n",
    "model_type = 'vit_b'\n",
    "ori_sam_model = sam_model_registry[model_type](checkpoint='/scratch/itee/uqtdao4/seg_volume/MedSAM/work_dir/lesion_finetune_pointbox/sam_model_latest.pth').to(device)\n",
    "ori_sam_predictor = SamPredictor(ori_sam_model)\n",
    "# npz_ts_path = '../brain_data/npz_wholebbox/MRI_lesion/train/'\n",
    "# test_npzs = sorted(os.listdir(npz_ts_path))\n",
    "# random select a test case\n",
    "# np.random.seed(2023)\n",
    "# # npz_idx = np.random.randint(0, len(test_npzs))\n",
    "# print(len(test_npzs))\n",
    "# npz_idx = 5\n",
    "# print(test_npzs[npz_idx])\n",
    "npz = np.load('../npz_wholebbox_pad/MRI_lesion/train/MRI_lesion_sub-M2002_ses-a1440_T2w.npz')\n",
    "imgs = npz['imgs']\n",
    "gts = npz['gts']\n",
    "print(f\"{imgs.shape=}, {gts.shape=}\")\n",
    "\n",
    "def get_bbox_from_mask(mask):\n",
    "    '''Returns a bounding box from a mask'''\n",
    "    # y_indices, x_indices = np.where(mask > 0)\n",
    "    # x_min, x_max = np.min(x_indices), np.max(x_indices)\n",
    "    # y_min, y_max = np.min(y_indices), np.max(y_indices)\n",
    "    # # add perturbation to bounding box coordinates\n",
    "    # H, W = mask.shape\n",
    "    # np.random.seed(2023)\n",
    "    # x_min = max(0, x_min - np.random.randint(0, 20))\n",
    "    # x_max = min(W, x_max + np.random.randint(0, 20))\n",
    "    # y_min = max(0, y_min - np.random.randint(0, 20))\n",
    "    # y_max = min(H, y_max + np.random.randint(0, 20))\n",
    "    bbox = np.array([0, 0, mask.shape[1], mask.shape[0]])\n",
    "    # return np.array([x_min, y_min, x_max, y_max])\n",
    "    return bbox"
   ]
  },
  {
   "cell_type": "code",
   "execution_count": 21,
   "metadata": {},
   "outputs": [
    {
     "name": "stdout",
     "output_type": "stream",
     "text": [
      "(81, 256, 256)\n",
      "(81, 256, 256)\n",
      "(81, 256, 256)\n",
      "(81, 256, 256)\n",
      "(81, 256, 256)\n",
      "(81, 256, 256)\n",
      "(81, 256, 256)\n",
      "(81, 256, 256)\n",
      "(81, 256, 256)\n",
      "(81, 256, 256)\n",
      "(81, 256, 256)\n",
      "(81, 256, 256)\n",
      "(81, 256, 256)\n",
      "(81, 256, 256)\n",
      "(81, 256, 256)\n",
      "(81, 256, 256)\n",
      "(81, 256, 256)\n",
      "(81, 256, 256)\n",
      "(81, 256, 256)\n",
      "(81, 256, 256)\n",
      "(81, 256, 256)\n",
      "(81, 256, 256)\n",
      "(81, 256, 256)\n",
      "(81, 256, 256)\n",
      "(81, 256, 256)\n",
      "(81, 256, 256)\n",
      "(81, 256, 256)\n",
      "(81, 256, 256)\n",
      "(81, 256, 256)\n",
      "(81, 256, 256)\n",
      "(81, 256, 256)\n",
      "(81, 256, 256)\n",
      "(81, 256, 256)\n",
      "(81, 256, 256)\n",
      "ori mean= 40.29933166503906 std= 62.145723077055955 min= 0 max= 255\n",
      "preprocess mean= 40.29933166503906 std= 62.145723077055955 min= 0 max= 255\n"
     ]
    },
    {
     "data": {
      "image/png": "[encoded data removed]",
      "text/plain": [
       "<Figure size 640x480 with 1 Axes>"
      ]
     },
     "metadata": {},
     "output_type": "display_data"
    },
    {
     "name": "stdout",
     "output_type": "stream",
     "text": [
      "sam trans mean= 40.3557243347168 std= 61.29097132164338 min= 0 max= 255\n",
      "preprocess mean= -1.2857021 std= 1.0723925 min= -2.117904 max= 2.64\n",
      "embedding mean= 0.011695392 std= 0.1572394 min= -1.0248413 max= 0.81036264\n",
      "(81, 256, 256)\n",
      "(81, 256, 256)\n",
      "(81, 256, 256)\n",
      "(81, 256, 256)\n",
      "(81, 256, 256)\n",
      "(81, 256, 256)\n",
      "(81, 256, 256)\n",
      "(81, 256, 256)\n",
      "(81, 256, 256)\n",
      "(81, 256, 256)\n",
      "(81, 256, 256)\n",
      "(81, 256, 256)\n",
      "(81, 256, 256)\n",
      "(81, 256, 256)\n",
      "(81, 256, 256)\n",
      "(81, 256, 256)\n",
      "(81, 256, 256)\n",
      "(81, 256, 256)\n",
      "(81, 256, 256)\n",
      "(81, 256, 256)\n",
      "(81, 256, 256)\n",
      "(81, 256, 256)\n",
      "(81, 256, 256)\n",
      "(81, 256, 256)\n",
      "(81, 256, 256)\n",
      "(81, 256, 256)\n",
      "(81, 256, 256)\n",
      "(81, 256, 256)\n",
      "(81, 256, 256)\n",
      "(81, 256, 256)\n",
      "(81, 256, 256)\n",
      "(81, 256, 256)\n",
      "(81, 256, 256)\n",
      "(81, 256, 256)\n",
      "(81, 256, 256)\n",
      "(81, 256, 256)\n",
      "(81, 256, 256)\n",
      "(81, 256, 256)\n",
      "(81, 256, 256)\n",
      "(81, 256, 256)\n",
      "(81, 256, 256)\n",
      "(81, 256, 256)\n",
      "(81, 256, 256)\n",
      "(81, 256, 256)\n",
      "(81, 256, 256)\n",
      "(81, 256, 256)\n",
      "(81, 256, 256)\n"
     ]
    }
   ],
   "source": [
    "# infer on fine-tuned sam model\n",
    "medsam_segs = []\n",
    "bboxes = []\n",
    "for i, (img, gt) in enumerate(zip(imgs, gts)):\n",
    "    print(gts.shape)\n",
    "    # bbox = get_bbox_from_mask(gt)\n",
    "    if i != 33: \n",
    "        continue\n",
    "    bbox = np.array([0 ,0, img.shape[0], img.shape[1]])\n",
    "    # bbox = np.array([50, img.shape[0]-1, img.shape[1]-1, 50])\n",
    "    bboxes.append(bbox)\n",
    "    \n",
    "    # predict the segmentation mask using the fine-tuned model\n",
    "    sam_model = sam_model_registry[model_type](checkpoint='/scratch/itee/uqtdao4/seg_volume/MedSAM/work_dir/lesion_finetune_bgpoint/sam_model_latest.pth').to(device)\n",
    "\n",
    "    sam_trans = ResizeLongestSide(sam_model.image_encoder.img_size)\n",
    "    H, W = img.shape[:2]\n",
    "    print(\"ori mean=\", np.mean(img), \"std=\", np.std(img), \"min=\", np.min(img), \"max=\", np.max(img))\n",
    "\n",
    "    print(\"preprocess mean=\", np.mean(img), \"std=\", np.std(img), \"min=\", np.min(img), \"max=\", np.max(img))\n",
    "\n",
    "    resize_img = sam_trans.apply_image(img)\n",
    "    resize_img_tensor = torch.as_tensor(resize_img.transpose(2, 0, 1)).to(device)\n",
    "    input_image = sam_model.preprocess(resize_img_tensor[None,:,:,:]) # (1, 3, 1024, 1024)\n",
    "    x = input_image.cpu().data.numpy()\n",
    "    plt.imshow(resize_img[:,:,0])\n",
    "    plt.show()\n",
    "    print(\"sam trans mean=\", np.mean(resize_img), \"std=\", np.std(resize_img), \"min=\", np.min(resize_img), \"max=\", np.max(resize_img))\n",
    "    print(\"preprocess mean=\", np.mean(x), \"std=\", np.std(x), \"min=\", np.min(x), \"max=\", np.max(x))\n",
    "    \n",
    "    with torch.no_grad():\n",
    "        image_embedding = sam_model.image_encoder(input_image.to(device)) # (1, 256, 64, 64)\n",
    "        print(\"embedding mean=\", np.mean(image_embedding.cpu().data.numpy()), \"std=\", np.std(image_embedding.cpu().data.numpy()), \"min=\", np.min(image_embedding.cpu().data.numpy()), \"max=\", np.max(image_embedding.cpu().data.numpy()))\n",
    "        \n",
    "        # convert box to 1024x1024 grid\n",
    "        input_point = np.array([[35,143]])\n",
    "        onnx_coord = np.concatenate([input_point, np.array([[0.0, 0.0]])], axis=0)[None, :, :]\n",
    "\n",
    "        point = sam_trans.apply_coords(onnx_coord, (H, W))\n",
    "        point_torch = torch.as_tensor(point, dtype=torch.float, device=device)\n",
    "        label = np.array([1])\n",
    "        onnx_label = np.concatenate([label, np.array([-1])], axis=0)[None, :].astype(np.float32)\n",
    "\n",
    "        label_torch = torch.as_tensor(onnx_label, dtype=torch.float, device=device)\n",
    "        \n",
    "        point_tuple = (point_torch, label_torch)\n",
    "        bbox = sam_trans.apply_boxes(bbox, (H, W))\n",
    "        box_torch = torch.as_tensor(bbox, dtype=torch.float, device=device)\n",
    "\n",
    "        # if box_coords is None:\n",
    "        #     box_coords = np.array([[0.0, 0.0]])\n",
    "        #     box_labels = np.array([-1])\n",
    "        # else:\n",
    "        #     box_coords = box_coords.reshape(2, 2)\n",
    "            \n",
    "        # if point_coords is None or len(point_coords) == 0:\n",
    "        #     point_coords = np.array([[0.0, 0.0]])\n",
    "        #     point_labels = np.array([0])\n",
    "\n",
    "        # coords = np.concatenate([point_coords, box_coords], axis=0)[None, :, :]\n",
    "        # labels = np.concatenate([point_labels, box_labels], axis=0)[None, :].astype(\n",
    "        #     np.float32\n",
    "        # )\n",
    "        # coords = sam_trans.apply_coords(coords, img.shape[:2]).astype(np.float32)\n",
    "        if len(box_torch.shape) == 2:\n",
    "            box_torch = box_torch[:, None, :] # (B, 1, 4)\n",
    "        \n",
    "        sparse_embeddings, dense_embeddings = sam_model.prompt_encoder(\n",
    "            points=point_tuple,\n",
    "            boxes=box_torch,\n",
    "            masks=None,\n",
    "        )\n",
    "        medsam_seg_prob, _ = sam_model.mask_decoder(\n",
    "            image_embeddings=image_embedding.to(device), # (B, 256, 64, 64)\n",
    "            image_pe=sam_model.prompt_encoder.get_dense_pe(), # (1, 256, 64, 64)\n",
    "            sparse_prompt_embeddings=sparse_embeddings, # (B, 2, 256)\n",
    "            dense_prompt_embeddings=dense_embeddings, # (B, 256, 64, 64)\n",
    "            multimask_output=False,\n",
    "            )\n",
    "        medsam_seg_prob = torch.sigmoid(medsam_seg_prob)\n",
    "        # convert soft mask to hard mask\n",
    "        medsam_seg_prob = medsam_seg_prob.cpu().numpy().squeeze()\n",
    "        medsam_seg = (medsam_seg_prob > 0.5).astype(np.uint8)\n",
    "        medsam_segs.append(medsam_seg)"
   ]
  },
  {
   "cell_type": "code",
   "execution_count": 22,
   "metadata": {},
   "outputs": [
    {
     "data": {
      "text/plain": [
       "(1, 256, 256)"
      ]
     },
     "execution_count": 22,
     "metadata": {},
     "output_type": "execute_result"
    }
   ],
   "source": [
    "medsam_segs = np.stack(medsam_segs, axis=0)\n",
    "medsam_segs.shape"
   ]
  },
  {
   "cell_type": "code",
   "execution_count": 53,
   "metadata": {},
   "outputs": [
    {
     "name": "stdout",
     "output_type": "stream",
     "text": [
      "pad mean= 0.0121917724609375 std= 0.10974120987668318 min= 0 max= 1\n"
     ]
    }
   ],
   "source": [
    "print(\"pad mean=\", np.mean(medsam_segs[0]), \"std=\", np.std(medsam_segs[0]), \"min=\", np.min(medsam_segs[0]), \"max=\", np.max(medsam_segs[0]))"
   ]
  },
  {
   "cell_type": "code",
   "execution_count": 23,
   "metadata": {},
   "outputs": [
    {
     "data": {
      "image/png": "[encoded data removed]",
      "text/plain": [
       "<Figure size 2500x2500 with 2 Axes>"
      ]
     },
     "metadata": {},
     "output_type": "display_data"
    }
   ],
   "source": [
    "def show_mask(mask, ax, random_color=False):\n",
    "    if random_color:\n",
    "        color = np.concatenate([np.random.random(3), np.array([0.6])], axis=0)\n",
    "    else:\n",
    "        color = np.array([251/255, 252/255, 30/255, 0.6])\n",
    "    h, w = mask.shape[-2:]\n",
    "    mask_image = mask.reshape(h, w, 1) * color.reshape(1, 1, -1)\n",
    "    ax.imshow(mask_image)\n",
    "\n",
    "def show_points(coords, labels, ax, marker_size=375):\n",
    "    pos_points = coords[labels==1]\n",
    "    neg_points = coords[labels==0]\n",
    "    ax.scatter(pos_points[:, 0], pos_points[:, 1], color='green', marker='*', s=marker_size, edgecolor='white', linewidth=1.25)\n",
    "    ax.scatter(neg_points[:, 0], neg_points[:, 1], color='red', marker='*', s=marker_size, edgecolor='white', linewidth=1.25)\n",
    "   \n",
    "def show_box(box, ax):\n",
    "    x0, y0 = box[0], box[1]\n",
    "    w, h = box[2] - box[0], box[3] - box[1]\n",
    "    ax.add_patch(plt.Rectangle((x0, y0), w, h, edgecolor='blue', facecolor=(0,0,0,0), lw=2))    \n",
    "img_id = 0 #63\n",
    "# img_id = int(imgs.shape[0]/2)  # np.random.randint(imgs.shape[0])\n",
    "_, axs = plt.subplots(1, 2, figsize=(25, 25))\n",
    "axs[0].imshow(imgs[img_id+33])\n",
    "show_mask(gts[img_id+33], axs[0])\n",
    "# show_box(box_np[img_id], axs[0][0])\n",
    "# axs[0][0].set_title('Mask with Tuned Model', fontsize=20)\n",
    "axs[0].text(0.5, 0.5,'Ground Truth', fontsize=30, horizontalalignment='left', verticalalignment='bottom', color='purple')\n",
    "axs[0].axis('off')\n",
    "\n",
    "axs[1].imshow(imgs[img_id+33])\n",
    "show_mask(medsam_segs[img_id, :, :,], axs[1])\n",
    "show_points(np.array([[35,143]]), np.array([1]), axs[1])\n",
    "\n",
    "show_box(bboxes[img_id], axs[1])\n",
    "# add text to image to show dice score\n",
    "# axs[1].text(0.5, 0.5, 'SAM DSC: {:.4f}'.format(ori_sam_dsc), fontsize=30, horizontalalignment='left', verticalalignment='bottom', color='purple')\n",
    "# axs[1].set_title('Mask with Untuned Model', fontsize=20)\n",
    "axs[1].axis('on')\n",
    "\n",
    "plt.show()"
   ]
  },
  {
   "cell_type": "code",
   "execution_count": 18,
   "metadata": {},
   "outputs": [
    {
     "name": "stdout",
     "output_type": "stream",
     "text": [
      "sub-16310.FatImaging\n",
      "55 82\n",
      "55 81\n"
     ]
    }
   ],
   "source": [
    "import nibabel as nib\n",
    "\n",
    "label_id = 3\n",
    "idx = test_npzs[npz_idx].split('_')[2]\n",
    "print(idx)\n",
    "ori_gt = nib.load(join('./trainingset_51/labels/final', idx + '_W.nii.gz')).get_fdata()\n",
    "ori_img = nib.load(join('./trainingset_51', idx + '_W.nii.gz')).get_fdata()\n",
    "ori_gt = np.uint8(ori_gt==label_id)\n",
    "_, y_index, z_index = np.where(ori_gt > 0)\n",
    "z_min, z_max = np.min(z_index), np.max(z_index)\n",
    "print(z_min, z_max)\n",
    "# print(list(range(z_min, z_max)))\n",
    "\n",
    "index_filter = []\n",
    "gts = []\n",
    "for i in range(z_min, z_max):\n",
    "    gt_slice_i = ori_gt[:,:,i]\n",
    "    gt_slice_i = transform.resize(gt_slice_i, (256, 256), order=0, preserve_range=True, mode='constant', anti_aliasing=True)\n",
    "\n",
    "    if np.sum(gt_slice_i) > 3:\n",
    "        index_filter.append(i)\n",
    "        gts.append(gt_slice_i)\n",
    "    else:\n",
    "        print('noise index', i)\n",
    "z_min_fl, z_max_fl = np.min(index_filter), np.max(index_filter)\n",
    "# print('index filter',len(index_filter), index_filter)\n",
    "print(z_min_fl, z_max_fl)\n",
    "# print(list(range(z_min_fl, z_max_fl)))\n",
    "# print(len(gts))"
   ]
  },
  {
   "cell_type": "code",
   "execution_count": 19,
   "metadata": {},
   "outputs": [
    {
     "data": {
      "text/plain": [
       "(27, 256, 256)"
      ]
     },
     "execution_count": 19,
     "metadata": {},
     "output_type": "execute_result"
    }
   ],
   "source": [
    "medsam_segs.shape"
   ]
  },
  {
   "cell_type": "code",
   "execution_count": 20,
   "metadata": {},
   "outputs": [
    {
     "data": {
      "image/png": "[encoded data removed]",
      "text/plain": [
       "<Figure size 2500x2500 with 3 Axes>"
      ]
     },
     "metadata": {},
     "output_type": "display_data"
    }
   ],
   "source": [
    "import skimage\n",
    "\n",
    "ori_size = (288, 234, 124)\n",
    "ori_zeros = np.zeros(ori_size)\n",
    "medsam_segs_T = np.stack(medsam_segs).T # 256,256,x\n",
    "# resize prediction to original size\n",
    "medsan_segs_resized = skimage.transform.resize(medsam_segs_T, (288, 234, medsam_segs_T.shape[2]), order=0, preserve_range=True)\n",
    "ori_zeros[:,:, z_min_fl:z_max_fl+1] += medsan_segs_resized\n",
    "fig, axs  = plt.subplots(1,3, figsize=(25, 25))\n",
    "\n",
    "axs[0].imshow(ori_img[:,:,66].T, cmap='gray')\n",
    "axs[0].imshow(ori_zeros[:, :, 66].T, cmap='gray', alpha=0.5)\n",
    "axs[0].axis('off')\n",
    "\n",
    "axs[1].imshow(ori_img[:,117,:].T, cmap='gray')\n",
    "axs[1].imshow(ori_zeros[:, 117, :].T, cmap='gray', alpha=0.5)\n",
    "axs[1].axis('off')\n",
    "\n",
    "axs[2].imshow(ori_img[144,:,:].T, cmap='gray')\n",
    "axs[2].imshow(ori_zeros[144, :, :].T, cmap='gray', alpha=0.5)\n",
    "axs[2].axis('off')\n",
    "plt.show()\n"
   ]
  },
  {
   "cell_type": "code",
   "execution_count": 172,
   "metadata": {},
   "outputs": [],
   "source": [
    "ori_gt_nii = nib.load(join('./trainingset_51/labels/final', idx + '_W.nii.gz'))\n",
    "nib.save(nib.Nifti1Image(ori_zeros, ori_gt_nii.affine, ori_gt_nii.header), os.path.join('segmentation_output/segmentation_nii', idx + '_W.nii.gz'))"
   ]
  },
  {
   "cell_type": "code",
   "execution_count": null,
   "metadata": {},
   "outputs": [],
   "source": []
  }
 ],
 "metadata": {
  "kernelspec": {
   "display_name": "medsam-demo",
   "language": "python",
   "name": "python3"
  },
  "language_info": {
   "codemirror_mode": {
    "name": "ipython",
    "version": 3
   },
   "file_extension": ".py",
   "mimetype": "text/x-python",
   "name": "python",
   "nbconvert_exporter": "python",
   "pygments_lexer": "ipython3",
   "version": "3.10.11"
  },
  "orig_nbformat": 4
 },
 "nbformat": 4,
 "nbformat_minor": 2
}
